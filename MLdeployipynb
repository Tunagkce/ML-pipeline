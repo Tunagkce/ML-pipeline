{
  "nbformat": 4,
  "nbformat_minor": 0,
  "metadata": {
    "colab": {
      "provenance": []
    },
    "kernelspec": {
      "name": "python3",
      "display_name": "Python 3"
    },
    "language_info": {
      "name": "python"
    }
  },
  "cells": [
    {
      "cell_type": "code",
      "execution_count": null,
      "metadata": {
        "colab": {
          "base_uri": "https://localhost:8080/"
        },
        "id": "wpvRZ8-sj741",
        "outputId": "d885ded4-d3c8-4ef2-eee5-b6bff7d9e2e4"
      },
      "outputs": [
        {
          "output_type": "stream",
          "name": "stdout",
          "text": [
            "Requirement already satisfied: pandas in /usr/local/lib/python3.11/dist-packages (2.2.2)\n",
            "Requirement already satisfied: numpy>=1.23.2 in /usr/local/lib/python3.11/dist-packages (from pandas) (2.0.2)\n",
            "Requirement already satisfied: python-dateutil>=2.8.2 in /usr/local/lib/python3.11/dist-packages (from pandas) (2.9.0.post0)\n",
            "Requirement already satisfied: pytz>=2020.1 in /usr/local/lib/python3.11/dist-packages (from pandas) (2025.2)\n",
            "Requirement already satisfied: tzdata>=2022.7 in /usr/local/lib/python3.11/dist-packages (from pandas) (2025.2)\n",
            "Requirement already satisfied: six>=1.5 in /usr/local/lib/python3.11/dist-packages (from python-dateutil>=2.8.2->pandas) (1.17.0)\n",
            "Requirement already satisfied: scikit-learn in /usr/local/lib/python3.11/dist-packages (1.6.1)\n",
            "Requirement already satisfied: numpy>=1.19.5 in /usr/local/lib/python3.11/dist-packages (from scikit-learn) (2.0.2)\n",
            "Requirement already satisfied: scipy>=1.6.0 in /usr/local/lib/python3.11/dist-packages (from scikit-learn) (1.15.3)\n",
            "Requirement already satisfied: joblib>=1.2.0 in /usr/local/lib/python3.11/dist-packages (from scikit-learn) (1.5.0)\n",
            "Requirement already satisfied: threadpoolctl>=3.1.0 in /usr/local/lib/python3.11/dist-packages (from scikit-learn) (3.6.0)\n",
            "Requirement already satisfied: numpy in /usr/local/lib/python3.11/dist-packages (2.0.2)\n",
            "Collecting imblearn\n",
            "  Downloading imblearn-0.0-py2.py3-none-any.whl.metadata (355 bytes)\n",
            "Requirement already satisfied: imbalanced-learn in /usr/local/lib/python3.11/dist-packages (from imblearn) (0.13.0)\n",
            "Requirement already satisfied: numpy<3,>=1.24.3 in /usr/local/lib/python3.11/dist-packages (from imbalanced-learn->imblearn) (2.0.2)\n",
            "Requirement already satisfied: scipy<2,>=1.10.1 in /usr/local/lib/python3.11/dist-packages (from imbalanced-learn->imblearn) (1.15.3)\n",
            "Requirement already satisfied: scikit-learn<2,>=1.3.2 in /usr/local/lib/python3.11/dist-packages (from imbalanced-learn->imblearn) (1.6.1)\n",
            "Requirement already satisfied: sklearn-compat<1,>=0.1 in /usr/local/lib/python3.11/dist-packages (from imbalanced-learn->imblearn) (0.1.3)\n",
            "Requirement already satisfied: joblib<2,>=1.1.1 in /usr/local/lib/python3.11/dist-packages (from imbalanced-learn->imblearn) (1.5.0)\n",
            "Requirement already satisfied: threadpoolctl<4,>=2.0.0 in /usr/local/lib/python3.11/dist-packages (from imbalanced-learn->imblearn) (3.6.0)\n",
            "Downloading imblearn-0.0-py2.py3-none-any.whl (1.9 kB)\n",
            "Installing collected packages: imblearn\n",
            "Successfully installed imblearn-0.0\n"
          ]
        }
      ],
      "source": [
        "!pip install pandas\n",
        "!pip install scikit-learn\n",
        "!pip install numpy\n",
        "!pip install imblearn\n",
        "!pip install seaborn\n"
      ]
    },
    {
      "cell_type": "code",
      "source": [
        "import pandas as pd\n",
        "from sklearn.model_selection import train_test_split\n",
        "from sklearn.preprocessing import StandardScaler, OneHotEncoder\n",
        "from sklearn.compose import ColumnTransformer\n",
        "from imblearn.over_sampling import SMOTE\n",
        "from imblearn.pipeline import Pipeline as ImbPipeline\n",
        "from sklearn.feature_selection import SelectKBest, mutual_info_classif, f_classif\n",
        "from google.colab import files\n"
      ],
      "metadata": {
        "id": "WJlyPXXSkH9z"
      },
      "execution_count": null,
      "outputs": []
    },
    {
      "cell_type": "markdown",
      "source": [
        "## 1.Dataset Analysis\n"
      ],
      "metadata": {
        "id": "TJso_vQ9qsKu"
      }
    },
    {
      "cell_type": "code",
      "source": [
        "uploaded=files.upload()"
      ],
      "metadata": {
        "colab": {
          "base_uri": "https://localhost:8080/",
          "height": 73
        },
        "id": "bBHTqnYCkwJY",
        "outputId": "9fb0878c-6fe3-43a8-acf3-03e4d5d44f3e"
      },
      "execution_count": null,
      "outputs": [
        {
          "output_type": "display_data",
          "data": {
            "text/plain": [
              "<IPython.core.display.HTML object>"
            ],
            "text/html": [
              "\n",
              "     <input type=\"file\" id=\"files-0ee6897f-1549-490a-bad0-82b6aacc3377\" name=\"files[]\" multiple disabled\n",
              "        style=\"border:none\" />\n",
              "     <output id=\"result-0ee6897f-1549-490a-bad0-82b6aacc3377\">\n",
              "      Upload widget is only available when the cell has been executed in the\n",
              "      current browser session. Please rerun this cell to enable.\n",
              "      </output>\n",
              "      <script>// Copyright 2017 Google LLC\n",
              "//\n",
              "// Licensed under the Apache License, Version 2.0 (the \"License\");\n",
              "// you may not use this file except in compliance with the License.\n",
              "// You may obtain a copy of the License at\n",
              "//\n",
              "//      http://www.apache.org/licenses/LICENSE-2.0\n",
              "//\n",
              "// Unless required by applicable law or agreed to in writing, software\n",
              "// distributed under the License is distributed on an \"AS IS\" BASIS,\n",
              "// WITHOUT WARRANTIES OR CONDITIONS OF ANY KIND, either express or implied.\n",
              "// See the License for the specific language governing permissions and\n",
              "// limitations under the License.\n",
              "\n",
              "/**\n",
              " * @fileoverview Helpers for google.colab Python module.\n",
              " */\n",
              "(function(scope) {\n",
              "function span(text, styleAttributes = {}) {\n",
              "  const element = document.createElement('span');\n",
              "  element.textContent = text;\n",
              "  for (const key of Object.keys(styleAttributes)) {\n",
              "    element.style[key] = styleAttributes[key];\n",
              "  }\n",
              "  return element;\n",
              "}\n",
              "\n",
              "// Max number of bytes which will be uploaded at a time.\n",
              "const MAX_PAYLOAD_SIZE = 100 * 1024;\n",
              "\n",
              "function _uploadFiles(inputId, outputId) {\n",
              "  const steps = uploadFilesStep(inputId, outputId);\n",
              "  const outputElement = document.getElementById(outputId);\n",
              "  // Cache steps on the outputElement to make it available for the next call\n",
              "  // to uploadFilesContinue from Python.\n",
              "  outputElement.steps = steps;\n",
              "\n",
              "  return _uploadFilesContinue(outputId);\n",
              "}\n",
              "\n",
              "// This is roughly an async generator (not supported in the browser yet),\n",
              "// where there are multiple asynchronous steps and the Python side is going\n",
              "// to poll for completion of each step.\n",
              "// This uses a Promise to block the python side on completion of each step,\n",
              "// then passes the result of the previous step as the input to the next step.\n",
              "function _uploadFilesContinue(outputId) {\n",
              "  const outputElement = document.getElementById(outputId);\n",
              "  const steps = outputElement.steps;\n",
              "\n",
              "  const next = steps.next(outputElement.lastPromiseValue);\n",
              "  return Promise.resolve(next.value.promise).then((value) => {\n",
              "    // Cache the last promise value to make it available to the next\n",
              "    // step of the generator.\n",
              "    outputElement.lastPromiseValue = value;\n",
              "    return next.value.response;\n",
              "  });\n",
              "}\n",
              "\n",
              "/**\n",
              " * Generator function which is called between each async step of the upload\n",
              " * process.\n",
              " * @param {string} inputId Element ID of the input file picker element.\n",
              " * @param {string} outputId Element ID of the output display.\n",
              " * @return {!Iterable<!Object>} Iterable of next steps.\n",
              " */\n",
              "function* uploadFilesStep(inputId, outputId) {\n",
              "  const inputElement = document.getElementById(inputId);\n",
              "  inputElement.disabled = false;\n",
              "\n",
              "  const outputElement = document.getElementById(outputId);\n",
              "  outputElement.innerHTML = '';\n",
              "\n",
              "  const pickedPromise = new Promise((resolve) => {\n",
              "    inputElement.addEventListener('change', (e) => {\n",
              "      resolve(e.target.files);\n",
              "    });\n",
              "  });\n",
              "\n",
              "  const cancel = document.createElement('button');\n",
              "  inputElement.parentElement.appendChild(cancel);\n",
              "  cancel.textContent = 'Cancel upload';\n",
              "  const cancelPromise = new Promise((resolve) => {\n",
              "    cancel.onclick = () => {\n",
              "      resolve(null);\n",
              "    };\n",
              "  });\n",
              "\n",
              "  // Wait for the user to pick the files.\n",
              "  const files = yield {\n",
              "    promise: Promise.race([pickedPromise, cancelPromise]),\n",
              "    response: {\n",
              "      action: 'starting',\n",
              "    }\n",
              "  };\n",
              "\n",
              "  cancel.remove();\n",
              "\n",
              "  // Disable the input element since further picks are not allowed.\n",
              "  inputElement.disabled = true;\n",
              "\n",
              "  if (!files) {\n",
              "    return {\n",
              "      response: {\n",
              "        action: 'complete',\n",
              "      }\n",
              "    };\n",
              "  }\n",
              "\n",
              "  for (const file of files) {\n",
              "    const li = document.createElement('li');\n",
              "    li.append(span(file.name, {fontWeight: 'bold'}));\n",
              "    li.append(span(\n",
              "        `(${file.type || 'n/a'}) - ${file.size} bytes, ` +\n",
              "        `last modified: ${\n",
              "            file.lastModifiedDate ? file.lastModifiedDate.toLocaleDateString() :\n",
              "                                    'n/a'} - `));\n",
              "    const percent = span('0% done');\n",
              "    li.appendChild(percent);\n",
              "\n",
              "    outputElement.appendChild(li);\n",
              "\n",
              "    const fileDataPromise = new Promise((resolve) => {\n",
              "      const reader = new FileReader();\n",
              "      reader.onload = (e) => {\n",
              "        resolve(e.target.result);\n",
              "      };\n",
              "      reader.readAsArrayBuffer(file);\n",
              "    });\n",
              "    // Wait for the data to be ready.\n",
              "    let fileData = yield {\n",
              "      promise: fileDataPromise,\n",
              "      response: {\n",
              "        action: 'continue',\n",
              "      }\n",
              "    };\n",
              "\n",
              "    // Use a chunked sending to avoid message size limits. See b/62115660.\n",
              "    let position = 0;\n",
              "    do {\n",
              "      const length = Math.min(fileData.byteLength - position, MAX_PAYLOAD_SIZE);\n",
              "      const chunk = new Uint8Array(fileData, position, length);\n",
              "      position += length;\n",
              "\n",
              "      const base64 = btoa(String.fromCharCode.apply(null, chunk));\n",
              "      yield {\n",
              "        response: {\n",
              "          action: 'append',\n",
              "          file: file.name,\n",
              "          data: base64,\n",
              "        },\n",
              "      };\n",
              "\n",
              "      let percentDone = fileData.byteLength === 0 ?\n",
              "          100 :\n",
              "          Math.round((position / fileData.byteLength) * 100);\n",
              "      percent.textContent = `${percentDone}% done`;\n",
              "\n",
              "    } while (position < fileData.byteLength);\n",
              "  }\n",
              "\n",
              "  // All done.\n",
              "  yield {\n",
              "    response: {\n",
              "      action: 'complete',\n",
              "    }\n",
              "  };\n",
              "}\n",
              "\n",
              "scope.google = scope.google || {};\n",
              "scope.google.colab = scope.google.colab || {};\n",
              "scope.google.colab._files = {\n",
              "  _uploadFiles,\n",
              "  _uploadFilesContinue,\n",
              "};\n",
              "})(self);\n",
              "</script> "
            ]
          },
          "metadata": {}
        },
        {
          "output_type": "stream",
          "name": "stdout",
          "text": [
            "Saving bank-additional.csv to bank-additional.csv\n"
          ]
        }
      ]
    },
    {
      "cell_type": "code",
      "source": [
        "df = pd.read_csv(\"bank-additional.csv\", sep=';')\n",
        "print(df.head())"
      ],
      "metadata": {
        "colab": {
          "base_uri": "https://localhost:8080/"
        },
        "id": "O64p6W4EkVpL",
        "outputId": "dcf1bafa-9f8a-46d5-c5de-84c0eb74be12"
      },
      "execution_count": null,
      "outputs": [
        {
          "output_type": "stream",
          "name": "stdout",
          "text": [
            "   age          job  marital          education default  housing     loan  \\\n",
            "0   30  blue-collar  married           basic.9y      no      yes       no   \n",
            "1   39     services   single        high.school      no       no       no   \n",
            "2   25     services  married        high.school      no      yes       no   \n",
            "3   38     services  married           basic.9y      no  unknown  unknown   \n",
            "4   47       admin.  married  university.degree      no      yes       no   \n",
            "\n",
            "     contact month day_of_week  ...  campaign  pdays  previous     poutcome  \\\n",
            "0   cellular   may         fri  ...         2    999         0  nonexistent   \n",
            "1  telephone   may         fri  ...         4    999         0  nonexistent   \n",
            "2  telephone   jun         wed  ...         1    999         0  nonexistent   \n",
            "3  telephone   jun         fri  ...         3    999         0  nonexistent   \n",
            "4   cellular   nov         mon  ...         1    999         0  nonexistent   \n",
            "\n",
            "  emp.var.rate  cons.price.idx  cons.conf.idx  euribor3m  nr.employed   y  \n",
            "0         -1.8          92.893          -46.2      1.313       5099.1  no  \n",
            "1          1.1          93.994          -36.4      4.855       5191.0  no  \n",
            "2          1.4          94.465          -41.8      4.962       5228.1  no  \n",
            "3          1.4          94.465          -41.8      4.959       5228.1  no  \n",
            "4         -0.1          93.200          -42.0      4.191       5195.8  no  \n",
            "\n",
            "[5 rows x 21 columns]\n"
          ]
        }
      ]
    },
    {
      "cell_type": "code",
      "source": [
        "df['y'].value_counts()"
      ],
      "metadata": {
        "colab": {
          "base_uri": "https://localhost:8080/",
          "height": 178
        },
        "id": "TH-oPbfslU60",
        "outputId": "a55d826b-77d7-4fce-f904-62d6d34be6da"
      },
      "execution_count": null,
      "outputs": [
        {
          "output_type": "execute_result",
          "data": {
            "text/plain": [
              "y\n",
              "no     3668\n",
              "yes     451\n",
              "Name: count, dtype: int64"
            ],
            "text/html": [
              "<div>\n",
              "<style scoped>\n",
              "    .dataframe tbody tr th:only-of-type {\n",
              "        vertical-align: middle;\n",
              "    }\n",
              "\n",
              "    .dataframe tbody tr th {\n",
              "        vertical-align: top;\n",
              "    }\n",
              "\n",
              "    .dataframe thead th {\n",
              "        text-align: right;\n",
              "    }\n",
              "</style>\n",
              "<table border=\"1\" class=\"dataframe\">\n",
              "  <thead>\n",
              "    <tr style=\"text-align: right;\">\n",
              "      <th></th>\n",
              "      <th>count</th>\n",
              "    </tr>\n",
              "    <tr>\n",
              "      <th>y</th>\n",
              "      <th></th>\n",
              "    </tr>\n",
              "  </thead>\n",
              "  <tbody>\n",
              "    <tr>\n",
              "      <th>no</th>\n",
              "      <td>3668</td>\n",
              "    </tr>\n",
              "    <tr>\n",
              "      <th>yes</th>\n",
              "      <td>451</td>\n",
              "    </tr>\n",
              "  </tbody>\n",
              "</table>\n",
              "</div><br><label><b>dtype:</b> int64</label>"
            ]
          },
          "metadata": {},
          "execution_count": 11
        }
      ]
    },
    {
      "cell_type": "code",
      "source": [
        "print(df.info())"
      ],
      "metadata": {
        "colab": {
          "base_uri": "https://localhost:8080/"
        },
        "id": "CUtIcZAvn-OO",
        "outputId": "13dbe685-8423-4cc8-e033-98fe63626bea"
      },
      "execution_count": null,
      "outputs": [
        {
          "output_type": "stream",
          "name": "stdout",
          "text": [
            "<class 'pandas.core.frame.DataFrame'>\n",
            "RangeIndex: 4119 entries, 0 to 4118\n",
            "Data columns (total 21 columns):\n",
            " #   Column          Non-Null Count  Dtype  \n",
            "---  ------          --------------  -----  \n",
            " 0   age             4119 non-null   int64  \n",
            " 1   job             4119 non-null   object \n",
            " 2   marital         4119 non-null   object \n",
            " 3   education       4119 non-null   object \n",
            " 4   default         4119 non-null   object \n",
            " 5   housing         4119 non-null   object \n",
            " 6   loan            4119 non-null   object \n",
            " 7   contact         4119 non-null   object \n",
            " 8   month           4119 non-null   object \n",
            " 9   day_of_week     4119 non-null   object \n",
            " 10  duration        4119 non-null   int64  \n",
            " 11  campaign        4119 non-null   int64  \n",
            " 12  pdays           4119 non-null   int64  \n",
            " 13  previous        4119 non-null   int64  \n",
            " 14  poutcome        4119 non-null   object \n",
            " 15  emp.var.rate    4119 non-null   float64\n",
            " 16  cons.price.idx  4119 non-null   float64\n",
            " 17  cons.conf.idx   4119 non-null   float64\n",
            " 18  euribor3m       4119 non-null   float64\n",
            " 19  nr.employed     4119 non-null   float64\n",
            " 20  y               4119 non-null   object \n",
            "dtypes: float64(5), int64(5), object(11)\n",
            "memory usage: 675.9+ KB\n",
            "None\n"
          ]
        }
      ]
    },
    {
      "cell_type": "code",
      "source": [
        "df.describe()"
      ],
      "metadata": {
        "colab": {
          "base_uri": "https://localhost:8080/",
          "height": 300
        },
        "id": "zGeQbqTYn_jd",
        "outputId": "2cafb5eb-6c1d-4180-b33d-93652b8f2247"
      },
      "execution_count": null,
      "outputs": [
        {
          "output_type": "execute_result",
          "data": {
            "text/plain": [
              "               age     duration     campaign        pdays     previous  \\\n",
              "count  4119.000000  4119.000000  4119.000000  4119.000000  4119.000000   \n",
              "mean     40.113620   256.788055     2.537266   960.422190     0.190337   \n",
              "std      10.313362   254.703736     2.568159   191.922786     0.541788   \n",
              "min      18.000000     0.000000     1.000000     0.000000     0.000000   \n",
              "25%      32.000000   103.000000     1.000000   999.000000     0.000000   \n",
              "50%      38.000000   181.000000     2.000000   999.000000     0.000000   \n",
              "75%      47.000000   317.000000     3.000000   999.000000     0.000000   \n",
              "max      88.000000  3643.000000    35.000000   999.000000     6.000000   \n",
              "\n",
              "       emp.var.rate  cons.price.idx  cons.conf.idx    euribor3m  nr.employed  \n",
              "count   4119.000000     4119.000000    4119.000000  4119.000000  4119.000000  \n",
              "mean       0.084972       93.579704     -40.499102     3.621356  5166.481695  \n",
              "std        1.563114        0.579349       4.594578     1.733591    73.667904  \n",
              "min       -3.400000       92.201000     -50.800000     0.635000  4963.600000  \n",
              "25%       -1.800000       93.075000     -42.700000     1.334000  5099.100000  \n",
              "50%        1.100000       93.749000     -41.800000     4.857000  5191.000000  \n",
              "75%        1.400000       93.994000     -36.400000     4.961000  5228.100000  \n",
              "max        1.400000       94.767000     -26.900000     5.045000  5228.100000  "
            ],
            "text/html": [
              "\n",
              "  <div id=\"df-38b1c24f-f9ea-4fbf-a7ed-117d4bfa7647\" class=\"colab-df-container\">\n",
              "    <div>\n",
              "<style scoped>\n",
              "    .dataframe tbody tr th:only-of-type {\n",
              "        vertical-align: middle;\n",
              "    }\n",
              "\n",
              "    .dataframe tbody tr th {\n",
              "        vertical-align: top;\n",
              "    }\n",
              "\n",
              "    .dataframe thead th {\n",
              "        text-align: right;\n",
              "    }\n",
              "</style>\n",
              "<table border=\"1\" class=\"dataframe\">\n",
              "  <thead>\n",
              "    <tr style=\"text-align: right;\">\n",
              "      <th></th>\n",
              "      <th>age</th>\n",
              "      <th>duration</th>\n",
              "      <th>campaign</th>\n",
              "      <th>pdays</th>\n",
              "      <th>previous</th>\n",
              "      <th>emp.var.rate</th>\n",
              "      <th>cons.price.idx</th>\n",
              "      <th>cons.conf.idx</th>\n",
              "      <th>euribor3m</th>\n",
              "      <th>nr.employed</th>\n",
              "    </tr>\n",
              "  </thead>\n",
              "  <tbody>\n",
              "    <tr>\n",
              "      <th>count</th>\n",
              "      <td>4119.000000</td>\n",
              "      <td>4119.000000</td>\n",
              "      <td>4119.000000</td>\n",
              "      <td>4119.000000</td>\n",
              "      <td>4119.000000</td>\n",
              "      <td>4119.000000</td>\n",
              "      <td>4119.000000</td>\n",
              "      <td>4119.000000</td>\n",
              "      <td>4119.000000</td>\n",
              "      <td>4119.000000</td>\n",
              "    </tr>\n",
              "    <tr>\n",
              "      <th>mean</th>\n",
              "      <td>40.113620</td>\n",
              "      <td>256.788055</td>\n",
              "      <td>2.537266</td>\n",
              "      <td>960.422190</td>\n",
              "      <td>0.190337</td>\n",
              "      <td>0.084972</td>\n",
              "      <td>93.579704</td>\n",
              "      <td>-40.499102</td>\n",
              "      <td>3.621356</td>\n",
              "      <td>5166.481695</td>\n",
              "    </tr>\n",
              "    <tr>\n",
              "      <th>std</th>\n",
              "      <td>10.313362</td>\n",
              "      <td>254.703736</td>\n",
              "      <td>2.568159</td>\n",
              "      <td>191.922786</td>\n",
              "      <td>0.541788</td>\n",
              "      <td>1.563114</td>\n",
              "      <td>0.579349</td>\n",
              "      <td>4.594578</td>\n",
              "      <td>1.733591</td>\n",
              "      <td>73.667904</td>\n",
              "    </tr>\n",
              "    <tr>\n",
              "      <th>min</th>\n",
              "      <td>18.000000</td>\n",
              "      <td>0.000000</td>\n",
              "      <td>1.000000</td>\n",
              "      <td>0.000000</td>\n",
              "      <td>0.000000</td>\n",
              "      <td>-3.400000</td>\n",
              "      <td>92.201000</td>\n",
              "      <td>-50.800000</td>\n",
              "      <td>0.635000</td>\n",
              "      <td>4963.600000</td>\n",
              "    </tr>\n",
              "    <tr>\n",
              "      <th>25%</th>\n",
              "      <td>32.000000</td>\n",
              "      <td>103.000000</td>\n",
              "      <td>1.000000</td>\n",
              "      <td>999.000000</td>\n",
              "      <td>0.000000</td>\n",
              "      <td>-1.800000</td>\n",
              "      <td>93.075000</td>\n",
              "      <td>-42.700000</td>\n",
              "      <td>1.334000</td>\n",
              "      <td>5099.100000</td>\n",
              "    </tr>\n",
              "    <tr>\n",
              "      <th>50%</th>\n",
              "      <td>38.000000</td>\n",
              "      <td>181.000000</td>\n",
              "      <td>2.000000</td>\n",
              "      <td>999.000000</td>\n",
              "      <td>0.000000</td>\n",
              "      <td>1.100000</td>\n",
              "      <td>93.749000</td>\n",
              "      <td>-41.800000</td>\n",
              "      <td>4.857000</td>\n",
              "      <td>5191.000000</td>\n",
              "    </tr>\n",
              "    <tr>\n",
              "      <th>75%</th>\n",
              "      <td>47.000000</td>\n",
              "      <td>317.000000</td>\n",
              "      <td>3.000000</td>\n",
              "      <td>999.000000</td>\n",
              "      <td>0.000000</td>\n",
              "      <td>1.400000</td>\n",
              "      <td>93.994000</td>\n",
              "      <td>-36.400000</td>\n",
              "      <td>4.961000</td>\n",
              "      <td>5228.100000</td>\n",
              "    </tr>\n",
              "    <tr>\n",
              "      <th>max</th>\n",
              "      <td>88.000000</td>\n",
              "      <td>3643.000000</td>\n",
              "      <td>35.000000</td>\n",
              "      <td>999.000000</td>\n",
              "      <td>6.000000</td>\n",
              "      <td>1.400000</td>\n",
              "      <td>94.767000</td>\n",
              "      <td>-26.900000</td>\n",
              "      <td>5.045000</td>\n",
              "      <td>5228.100000</td>\n",
              "    </tr>\n",
              "  </tbody>\n",
              "</table>\n",
              "</div>\n",
              "    <div class=\"colab-df-buttons\">\n",
              "\n",
              "  <div class=\"colab-df-container\">\n",
              "    <button class=\"colab-df-convert\" onclick=\"convertToInteractive('df-38b1c24f-f9ea-4fbf-a7ed-117d4bfa7647')\"\n",
              "            title=\"Convert this dataframe to an interactive table.\"\n",
              "            style=\"display:none;\">\n",
              "\n",
              "  <svg xmlns=\"http://www.w3.org/2000/svg\" height=\"24px\" viewBox=\"0 -960 960 960\">\n",
              "    <path d=\"M120-120v-720h720v720H120Zm60-500h600v-160H180v160Zm220 220h160v-160H400v160Zm0 220h160v-160H400v160ZM180-400h160v-160H180v160Zm440 0h160v-160H620v160ZM180-180h160v-160H180v160Zm440 0h160v-160H620v160Z\"/>\n",
              "  </svg>\n",
              "    </button>\n",
              "\n",
              "  <style>\n",
              "    .colab-df-container {\n",
              "      display:flex;\n",
              "      gap: 12px;\n",
              "    }\n",
              "\n",
              "    .colab-df-convert {\n",
              "      background-color: #E8F0FE;\n",
              "      border: none;\n",
              "      border-radius: 50%;\n",
              "      cursor: pointer;\n",
              "      display: none;\n",
              "      fill: #1967D2;\n",
              "      height: 32px;\n",
              "      padding: 0 0 0 0;\n",
              "      width: 32px;\n",
              "    }\n",
              "\n",
              "    .colab-df-convert:hover {\n",
              "      background-color: #E2EBFA;\n",
              "      box-shadow: 0px 1px 2px rgba(60, 64, 67, 0.3), 0px 1px 3px 1px rgba(60, 64, 67, 0.15);\n",
              "      fill: #174EA6;\n",
              "    }\n",
              "\n",
              "    .colab-df-buttons div {\n",
              "      margin-bottom: 4px;\n",
              "    }\n",
              "\n",
              "    [theme=dark] .colab-df-convert {\n",
              "      background-color: #3B4455;\n",
              "      fill: #D2E3FC;\n",
              "    }\n",
              "\n",
              "    [theme=dark] .colab-df-convert:hover {\n",
              "      background-color: #434B5C;\n",
              "      box-shadow: 0px 1px 3px 1px rgba(0, 0, 0, 0.15);\n",
              "      filter: drop-shadow(0px 1px 2px rgba(0, 0, 0, 0.3));\n",
              "      fill: #FFFFFF;\n",
              "    }\n",
              "  </style>\n",
              "\n",
              "    <script>\n",
              "      const buttonEl =\n",
              "        document.querySelector('#df-38b1c24f-f9ea-4fbf-a7ed-117d4bfa7647 button.colab-df-convert');\n",
              "      buttonEl.style.display =\n",
              "        google.colab.kernel.accessAllowed ? 'block' : 'none';\n",
              "\n",
              "      async function convertToInteractive(key) {\n",
              "        const element = document.querySelector('#df-38b1c24f-f9ea-4fbf-a7ed-117d4bfa7647');\n",
              "        const dataTable =\n",
              "          await google.colab.kernel.invokeFunction('convertToInteractive',\n",
              "                                                    [key], {});\n",
              "        if (!dataTable) return;\n",
              "\n",
              "        const docLinkHtml = 'Like what you see? Visit the ' +\n",
              "          '<a target=\"_blank\" href=https://colab.research.google.com/notebooks/data_table.ipynb>data table notebook</a>'\n",
              "          + ' to learn more about interactive tables.';\n",
              "        element.innerHTML = '';\n",
              "        dataTable['output_type'] = 'display_data';\n",
              "        await google.colab.output.renderOutput(dataTable, element);\n",
              "        const docLink = document.createElement('div');\n",
              "        docLink.innerHTML = docLinkHtml;\n",
              "        element.appendChild(docLink);\n",
              "      }\n",
              "    </script>\n",
              "  </div>\n",
              "\n",
              "\n",
              "    <div id=\"df-653ebe99-8bff-4f70-97f3-dd90d11a6394\">\n",
              "      <button class=\"colab-df-quickchart\" onclick=\"quickchart('df-653ebe99-8bff-4f70-97f3-dd90d11a6394')\"\n",
              "                title=\"Suggest charts\"\n",
              "                style=\"display:none;\">\n",
              "\n",
              "<svg xmlns=\"http://www.w3.org/2000/svg\" height=\"24px\"viewBox=\"0 0 24 24\"\n",
              "     width=\"24px\">\n",
              "    <g>\n",
              "        <path d=\"M19 3H5c-1.1 0-2 .9-2 2v14c0 1.1.9 2 2 2h14c1.1 0 2-.9 2-2V5c0-1.1-.9-2-2-2zM9 17H7v-7h2v7zm4 0h-2V7h2v10zm4 0h-2v-4h2v4z\"/>\n",
              "    </g>\n",
              "</svg>\n",
              "      </button>\n",
              "\n",
              "<style>\n",
              "  .colab-df-quickchart {\n",
              "      --bg-color: #E8F0FE;\n",
              "      --fill-color: #1967D2;\n",
              "      --hover-bg-color: #E2EBFA;\n",
              "      --hover-fill-color: #174EA6;\n",
              "      --disabled-fill-color: #AAA;\n",
              "      --disabled-bg-color: #DDD;\n",
              "  }\n",
              "\n",
              "  [theme=dark] .colab-df-quickchart {\n",
              "      --bg-color: #3B4455;\n",
              "      --fill-color: #D2E3FC;\n",
              "      --hover-bg-color: #434B5C;\n",
              "      --hover-fill-color: #FFFFFF;\n",
              "      --disabled-bg-color: #3B4455;\n",
              "      --disabled-fill-color: #666;\n",
              "  }\n",
              "\n",
              "  .colab-df-quickchart {\n",
              "    background-color: var(--bg-color);\n",
              "    border: none;\n",
              "    border-radius: 50%;\n",
              "    cursor: pointer;\n",
              "    display: none;\n",
              "    fill: var(--fill-color);\n",
              "    height: 32px;\n",
              "    padding: 0;\n",
              "    width: 32px;\n",
              "  }\n",
              "\n",
              "  .colab-df-quickchart:hover {\n",
              "    background-color: var(--hover-bg-color);\n",
              "    box-shadow: 0 1px 2px rgba(60, 64, 67, 0.3), 0 1px 3px 1px rgba(60, 64, 67, 0.15);\n",
              "    fill: var(--button-hover-fill-color);\n",
              "  }\n",
              "\n",
              "  .colab-df-quickchart-complete:disabled,\n",
              "  .colab-df-quickchart-complete:disabled:hover {\n",
              "    background-color: var(--disabled-bg-color);\n",
              "    fill: var(--disabled-fill-color);\n",
              "    box-shadow: none;\n",
              "  }\n",
              "\n",
              "  .colab-df-spinner {\n",
              "    border: 2px solid var(--fill-color);\n",
              "    border-color: transparent;\n",
              "    border-bottom-color: var(--fill-color);\n",
              "    animation:\n",
              "      spin 1s steps(1) infinite;\n",
              "  }\n",
              "\n",
              "  @keyframes spin {\n",
              "    0% {\n",
              "      border-color: transparent;\n",
              "      border-bottom-color: var(--fill-color);\n",
              "      border-left-color: var(--fill-color);\n",
              "    }\n",
              "    20% {\n",
              "      border-color: transparent;\n",
              "      border-left-color: var(--fill-color);\n",
              "      border-top-color: var(--fill-color);\n",
              "    }\n",
              "    30% {\n",
              "      border-color: transparent;\n",
              "      border-left-color: var(--fill-color);\n",
              "      border-top-color: var(--fill-color);\n",
              "      border-right-color: var(--fill-color);\n",
              "    }\n",
              "    40% {\n",
              "      border-color: transparent;\n",
              "      border-right-color: var(--fill-color);\n",
              "      border-top-color: var(--fill-color);\n",
              "    }\n",
              "    60% {\n",
              "      border-color: transparent;\n",
              "      border-right-color: var(--fill-color);\n",
              "    }\n",
              "    80% {\n",
              "      border-color: transparent;\n",
              "      border-right-color: var(--fill-color);\n",
              "      border-bottom-color: var(--fill-color);\n",
              "    }\n",
              "    90% {\n",
              "      border-color: transparent;\n",
              "      border-bottom-color: var(--fill-color);\n",
              "    }\n",
              "  }\n",
              "</style>\n",
              "\n",
              "      <script>\n",
              "        async function quickchart(key) {\n",
              "          const quickchartButtonEl =\n",
              "            document.querySelector('#' + key + ' button');\n",
              "          quickchartButtonEl.disabled = true;  // To prevent multiple clicks.\n",
              "          quickchartButtonEl.classList.add('colab-df-spinner');\n",
              "          try {\n",
              "            const charts = await google.colab.kernel.invokeFunction(\n",
              "                'suggestCharts', [key], {});\n",
              "          } catch (error) {\n",
              "            console.error('Error during call to suggestCharts:', error);\n",
              "          }\n",
              "          quickchartButtonEl.classList.remove('colab-df-spinner');\n",
              "          quickchartButtonEl.classList.add('colab-df-quickchart-complete');\n",
              "        }\n",
              "        (() => {\n",
              "          let quickchartButtonEl =\n",
              "            document.querySelector('#df-653ebe99-8bff-4f70-97f3-dd90d11a6394 button');\n",
              "          quickchartButtonEl.style.display =\n",
              "            google.colab.kernel.accessAllowed ? 'block' : 'none';\n",
              "        })();\n",
              "      </script>\n",
              "    </div>\n",
              "\n",
              "    </div>\n",
              "  </div>\n"
            ],
            "application/vnd.google.colaboratory.intrinsic+json": {
              "type": "dataframe",
              "summary": "{\n  \"name\": \"df\",\n  \"rows\": 8,\n  \"fields\": [\n    {\n      \"column\": \"age\",\n      \"properties\": {\n        \"dtype\": \"number\",\n        \"std\": 1442.663440584843,\n        \"min\": 10.313361547199822,\n        \"max\": 4119.0,\n        \"num_unique_values\": 8,\n        \"samples\": [\n          40.11361981063365,\n          38.0,\n          4119.0\n        ],\n        \"semantic_type\": \"\",\n        \"description\": \"\"\n      }\n    },\n    {\n      \"column\": \"duration\",\n      \"properties\": {\n        \"dtype\": \"number\",\n        \"std\": 1718.2926546408369,\n        \"min\": 0.0,\n        \"max\": 4119.0,\n        \"num_unique_values\": 8,\n        \"samples\": [\n          256.7880553532411,\n          181.0,\n          4119.0\n        ],\n        \"semantic_type\": \"\",\n        \"description\": \"\"\n      }\n    },\n    {\n      \"column\": \"campaign\",\n      \"properties\": {\n        \"dtype\": \"number\",\n        \"std\": 1453.953218497157,\n        \"min\": 1.0,\n        \"max\": 4119.0,\n        \"num_unique_values\": 7,\n        \"samples\": [\n          4119.0,\n          2.537266326778344,\n          3.0\n        ],\n        \"semantic_type\": \"\",\n        \"description\": \"\"\n      }\n    },\n    {\n      \"column\": \"pdays\",\n      \"properties\": {\n        \"dtype\": \"number\",\n        \"std\": 1263.8913705723114,\n        \"min\": 0.0,\n        \"max\": 4119.0,\n        \"num_unique_values\": 5,\n        \"samples\": [\n          960.4221898519058,\n          999.0,\n          191.9227858007736\n        ],\n        \"semantic_type\": \"\",\n        \"description\": \"\"\n      }\n    },\n    {\n      \"column\": \"previous\",\n      \"properties\": {\n        \"dtype\": \"number\",\n        \"std\": 1455.9478568492361,\n        \"min\": 0.0,\n        \"max\": 4119.0,\n        \"num_unique_values\": 5,\n        \"samples\": [\n          0.19033746054867687,\n          6.0,\n          0.5417883234290218\n        ],\n        \"semantic_type\": \"\",\n        \"description\": \"\"\n      }\n    },\n    {\n      \"column\": \"emp.var.rate\",\n      \"properties\": {\n        \"dtype\": \"number\",\n        \"std\": 1456.269931723342,\n        \"min\": -3.4,\n        \"max\": 4119.0,\n        \"num_unique_values\": 7,\n        \"samples\": [\n          4119.0,\n          0.08497208060208788,\n          1.1\n        ],\n        \"semantic_type\": \"\",\n        \"description\": \"\"\n      }\n    },\n    {\n      \"column\": \"cons.price.idx\",\n      \"properties\": {\n        \"dtype\": \"number\",\n        \"std\": 1428.2747426919952,\n        \"min\": 0.5793488049889657,\n        \"max\": 4119.0,\n        \"num_unique_values\": 8,\n        \"samples\": [\n          93.57970429715951,\n          93.749,\n          4119.0\n        ],\n        \"semantic_type\": \"\",\n        \"description\": \"\"\n      }\n    },\n    {\n      \"column\": \"cons.conf.idx\",\n      \"properties\": {\n        \"dtype\": \"number\",\n        \"std\": 1468.2282271845525,\n        \"min\": -50.8,\n        \"max\": 4119.0,\n        \"num_unique_values\": 8,\n        \"samples\": [\n          -40.49910172371935,\n          -41.8,\n          4119.0\n        ],\n        \"semantic_type\": \"\",\n        \"description\": \"\"\n      }\n    },\n    {\n      \"column\": \"euribor3m\",\n      \"properties\": {\n        \"dtype\": \"number\",\n        \"std\": 1455.1668677113134,\n        \"min\": 0.635,\n        \"max\": 4119.0,\n        \"num_unique_values\": 8,\n        \"samples\": [\n          3.621355668851663,\n          4.857,\n          4119.0\n        ],\n        \"semantic_type\": \"\",\n        \"description\": \"\"\n      }\n    },\n    {\n      \"column\": \"nr.employed\",\n      \"properties\": {\n        \"dtype\": \"number\",\n        \"std\": 1780.249865523628,\n        \"min\": 73.66790355721277,\n        \"max\": 5228.1,\n        \"num_unique_values\": 7,\n        \"samples\": [\n          4119.0,\n          5166.481694586065,\n          5191.0\n        ],\n        \"semantic_type\": \"\",\n        \"description\": \"\"\n      }\n    }\n  ]\n}"
            }
          },
          "metadata": {},
          "execution_count": 14
        }
      ]
    },
    {
      "cell_type": "code",
      "source": [
        "df.isnull().sum()"
      ],
      "metadata": {
        "colab": {
          "base_uri": "https://localhost:8080/",
          "height": 742
        },
        "id": "mri0M1uAoFvZ",
        "outputId": "2d621db5-ecf8-4315-abc7-7d2d5e850d01"
      },
      "execution_count": null,
      "outputs": [
        {
          "output_type": "execute_result",
          "data": {
            "text/plain": [
              "age               0\n",
              "job               0\n",
              "marital           0\n",
              "education         0\n",
              "default           0\n",
              "housing           0\n",
              "loan              0\n",
              "contact           0\n",
              "month             0\n",
              "day_of_week       0\n",
              "duration          0\n",
              "campaign          0\n",
              "pdays             0\n",
              "previous          0\n",
              "poutcome          0\n",
              "emp.var.rate      0\n",
              "cons.price.idx    0\n",
              "cons.conf.idx     0\n",
              "euribor3m         0\n",
              "nr.employed       0\n",
              "y                 0\n",
              "dtype: int64"
            ],
            "text/html": [
              "<div>\n",
              "<style scoped>\n",
              "    .dataframe tbody tr th:only-of-type {\n",
              "        vertical-align: middle;\n",
              "    }\n",
              "\n",
              "    .dataframe tbody tr th {\n",
              "        vertical-align: top;\n",
              "    }\n",
              "\n",
              "    .dataframe thead th {\n",
              "        text-align: right;\n",
              "    }\n",
              "</style>\n",
              "<table border=\"1\" class=\"dataframe\">\n",
              "  <thead>\n",
              "    <tr style=\"text-align: right;\">\n",
              "      <th></th>\n",
              "      <th>0</th>\n",
              "    </tr>\n",
              "  </thead>\n",
              "  <tbody>\n",
              "    <tr>\n",
              "      <th>age</th>\n",
              "      <td>0</td>\n",
              "    </tr>\n",
              "    <tr>\n",
              "      <th>job</th>\n",
              "      <td>0</td>\n",
              "    </tr>\n",
              "    <tr>\n",
              "      <th>marital</th>\n",
              "      <td>0</td>\n",
              "    </tr>\n",
              "    <tr>\n",
              "      <th>education</th>\n",
              "      <td>0</td>\n",
              "    </tr>\n",
              "    <tr>\n",
              "      <th>default</th>\n",
              "      <td>0</td>\n",
              "    </tr>\n",
              "    <tr>\n",
              "      <th>housing</th>\n",
              "      <td>0</td>\n",
              "    </tr>\n",
              "    <tr>\n",
              "      <th>loan</th>\n",
              "      <td>0</td>\n",
              "    </tr>\n",
              "    <tr>\n",
              "      <th>contact</th>\n",
              "      <td>0</td>\n",
              "    </tr>\n",
              "    <tr>\n",
              "      <th>month</th>\n",
              "      <td>0</td>\n",
              "    </tr>\n",
              "    <tr>\n",
              "      <th>day_of_week</th>\n",
              "      <td>0</td>\n",
              "    </tr>\n",
              "    <tr>\n",
              "      <th>duration</th>\n",
              "      <td>0</td>\n",
              "    </tr>\n",
              "    <tr>\n",
              "      <th>campaign</th>\n",
              "      <td>0</td>\n",
              "    </tr>\n",
              "    <tr>\n",
              "      <th>pdays</th>\n",
              "      <td>0</td>\n",
              "    </tr>\n",
              "    <tr>\n",
              "      <th>previous</th>\n",
              "      <td>0</td>\n",
              "    </tr>\n",
              "    <tr>\n",
              "      <th>poutcome</th>\n",
              "      <td>0</td>\n",
              "    </tr>\n",
              "    <tr>\n",
              "      <th>emp.var.rate</th>\n",
              "      <td>0</td>\n",
              "    </tr>\n",
              "    <tr>\n",
              "      <th>cons.price.idx</th>\n",
              "      <td>0</td>\n",
              "    </tr>\n",
              "    <tr>\n",
              "      <th>cons.conf.idx</th>\n",
              "      <td>0</td>\n",
              "    </tr>\n",
              "    <tr>\n",
              "      <th>euribor3m</th>\n",
              "      <td>0</td>\n",
              "    </tr>\n",
              "    <tr>\n",
              "      <th>nr.employed</th>\n",
              "      <td>0</td>\n",
              "    </tr>\n",
              "    <tr>\n",
              "      <th>y</th>\n",
              "      <td>0</td>\n",
              "    </tr>\n",
              "  </tbody>\n",
              "</table>\n",
              "</div><br><label><b>dtype:</b> int64</label>"
            ]
          },
          "metadata": {},
          "execution_count": 17
        }
      ]
    },
    {
      "cell_type": "markdown",
      "source": [
        "## 2. Data Cleaning\n"
      ],
      "metadata": {
        "id": "bGO_tS-loOwV"
      }
    },
    {
      "cell_type": "code",
      "source": [
        "df[\"y\"].describe()\n",
        "\n"
      ],
      "metadata": {
        "colab": {
          "base_uri": "https://localhost:8080/",
          "height": 209
        },
        "id": "VfJqo3m8oUPo",
        "outputId": "b1d0b620-59e7-4b32-a864-5b0bb0ea8ab2"
      },
      "execution_count": null,
      "outputs": [
        {
          "output_type": "execute_result",
          "data": {
            "text/plain": [
              "count     4119\n",
              "unique       2\n",
              "top         no\n",
              "freq      3668\n",
              "Name: y, dtype: object"
            ],
            "text/html": [
              "<div>\n",
              "<style scoped>\n",
              "    .dataframe tbody tr th:only-of-type {\n",
              "        vertical-align: middle;\n",
              "    }\n",
              "\n",
              "    .dataframe tbody tr th {\n",
              "        vertical-align: top;\n",
              "    }\n",
              "\n",
              "    .dataframe thead th {\n",
              "        text-align: right;\n",
              "    }\n",
              "</style>\n",
              "<table border=\"1\" class=\"dataframe\">\n",
              "  <thead>\n",
              "    <tr style=\"text-align: right;\">\n",
              "      <th></th>\n",
              "      <th>y</th>\n",
              "    </tr>\n",
              "  </thead>\n",
              "  <tbody>\n",
              "    <tr>\n",
              "      <th>count</th>\n",
              "      <td>4119</td>\n",
              "    </tr>\n",
              "    <tr>\n",
              "      <th>unique</th>\n",
              "      <td>2</td>\n",
              "    </tr>\n",
              "    <tr>\n",
              "      <th>top</th>\n",
              "      <td>no</td>\n",
              "    </tr>\n",
              "    <tr>\n",
              "      <th>freq</th>\n",
              "      <td>3668</td>\n",
              "    </tr>\n",
              "  </tbody>\n",
              "</table>\n",
              "</div><br><label><b>dtype:</b> object</label>"
            ]
          },
          "metadata": {},
          "execution_count": 23
        }
      ]
    },
    {
      "cell_type": "code",
      "source": [
        "df[\"y\"].value_counts()"
      ],
      "metadata": {
        "colab": {
          "base_uri": "https://localhost:8080/",
          "height": 178
        },
        "id": "0LBUOKFkoddB",
        "outputId": "cf45ee3e-598c-420c-d8b9-53b060376ea7"
      },
      "execution_count": null,
      "outputs": [
        {
          "output_type": "execute_result",
          "data": {
            "text/plain": [
              "y\n",
              "no     3668\n",
              "yes     451\n",
              "Name: count, dtype: int64"
            ],
            "text/html": [
              "<div>\n",
              "<style scoped>\n",
              "    .dataframe tbody tr th:only-of-type {\n",
              "        vertical-align: middle;\n",
              "    }\n",
              "\n",
              "    .dataframe tbody tr th {\n",
              "        vertical-align: top;\n",
              "    }\n",
              "\n",
              "    .dataframe thead th {\n",
              "        text-align: right;\n",
              "    }\n",
              "</style>\n",
              "<table border=\"1\" class=\"dataframe\">\n",
              "  <thead>\n",
              "    <tr style=\"text-align: right;\">\n",
              "      <th></th>\n",
              "      <th>count</th>\n",
              "    </tr>\n",
              "    <tr>\n",
              "      <th>y</th>\n",
              "      <th></th>\n",
              "    </tr>\n",
              "  </thead>\n",
              "  <tbody>\n",
              "    <tr>\n",
              "      <th>no</th>\n",
              "      <td>3668</td>\n",
              "    </tr>\n",
              "    <tr>\n",
              "      <th>yes</th>\n",
              "      <td>451</td>\n",
              "    </tr>\n",
              "  </tbody>\n",
              "</table>\n",
              "</div><br><label><b>dtype:</b> int64</label>"
            ]
          },
          "metadata": {},
          "execution_count": 22
        }
      ]
    },
    {
      "cell_type": "code",
      "source": [
        "import numpy as np\n",
        "import seaborn as sns\n",
        "import matplotlib.pyplot as plt\n",
        "import warnings\n",
        "%matplotlib inline\n",
        "warnings.filterwarnings('ignore')"
      ],
      "metadata": {
        "id": "M2TflX3aozhc"
      },
      "execution_count": null,
      "outputs": []
    },
    {
      "cell_type": "code",
      "source": [
        "sns.countplot(x = df[\"y\"], palette = \"Spectral\")\n",
        "plt.title(\"Output Distribution\")\n",
        "plt.show()"
      ],
      "metadata": {
        "colab": {
          "base_uri": "https://localhost:8080/",
          "height": 472
        },
        "id": "56maeA16odVu",
        "outputId": "9546f76c-b758-48cb-81d7-35709f6f1bcd"
      },
      "execution_count": null,
      "outputs": [
        {
          "output_type": "display_data",
          "data": {
            "text/plain": [
              "<Figure size 640x480 with 1 Axes>"
            ],
            "image/png": "[encoded data removed]"
          },
          "metadata": {}
        }
      ]
    },
    {
      "cell_type": "code",
      "source": [
        "print(\"\\n Columns containing 'unknown' values:\")\n",
        "for col in df.select_dtypes(include='object').columns:\n",
        "    unknown_count = df[col].value_counts().get('unknown', 0)\n",
        "    if unknown_count > 0:\n",
        "        print(f\"→ {col}: {unknown_count} instances of 'unknown'\")"
      ],
      "metadata": {
        "colab": {
          "base_uri": "https://localhost:8080/"
        },
        "id": "9myqx5YPqYbb",
        "outputId": "0d76aacb-5364-4197-fbb8-396be8d950b3"
      },
      "execution_count": null,
      "outputs": [
        {
          "output_type": "stream",
          "name": "stdout",
          "text": [
            "\n",
            " Columns containing 'unknown' values:\n",
            "→ job: 39 instances of 'unknown'\n",
            "→ marital: 11 instances of 'unknown'\n",
            "→ education: 167 instances of 'unknown'\n",
            "→ default: 803 instances of 'unknown'\n",
            "→ housing: 105 instances of 'unknown'\n",
            "→ loan: 105 instances of 'unknown'\n"
          ]
        }
      ]
    },
    {
      "cell_type": "code",
      "source": [
        "print(\"\\n number of values in default column:\")\n",
        "print(df['default'].value_counts())"
      ],
      "metadata": {
        "colab": {
          "base_uri": "https://localhost:8080/"
        },
        "id": "eKEt7DcQqb0Z",
        "outputId": "20039752-0a34-44c8-a026-2e90d0b10fdc"
      },
      "execution_count": null,
      "outputs": [
        {
          "output_type": "stream",
          "name": "stdout",
          "text": [
            "\n",
            " number of values in default column:\n",
            "default\n",
            "no         3315\n",
            "unknown     803\n",
            "yes           1\n",
            "Name: count, dtype: int64\n"
          ]
        }
      ]
    },
    {
      "cell_type": "code",
      "source": [
        "df_cleaned = df.drop('default', axis=1)\n",
        "\n",
        "print(\" 'default' column has been deleted. cleaned dataset :\", df_cleaned.shape)"
      ],
      "metadata": {
        "colab": {
          "base_uri": "https://localhost:8080/"
        },
        "id": "WPI-UYgZqgEO",
        "outputId": "5f1701dc-d19f-46d4-f6ca-6b3b1c379715"
      },
      "execution_count": null,
      "outputs": [
        {
          "output_type": "stream",
          "name": "stdout",
          "text": [
            " 'default' column has been deleted. cleaned dataset : (4119, 20)\n"
          ]
        }
      ]
    },
    {
      "cell_type": "code",
      "source": [
        "columns_with_unknown = ['job', 'marital', 'education', 'housing', 'loan']\n",
        "\n",
        "for col in columns_with_unknown:\n",
        "    mode_value = df_cleaned[col].mode()[0]  # En sık geçen değeri al(mod)\n",
        "    df_cleaned[col] = df_cleaned[col].replace('unknown', mode_value)\n",
        "\n",
        "print(\" 'unknown' values in selected columns have been replaced with the mode value.\")\n",
        "print(\" Columns affected:\", columns_with_unknown)"
      ],
      "metadata": {
        "colab": {
          "base_uri": "https://localhost:8080/"
        },
        "id": "qXEgpsiWqmjT",
        "outputId": "1b7a9479-4b1b-409b-edd4-85436a19fd08"
      },
      "execution_count": null,
      "outputs": [
        {
          "output_type": "stream",
          "name": "stdout",
          "text": [
            " 'unknown' values in selected columns have been replaced with the mode value.\n",
            " Columns affected: ['job', 'marital', 'education', 'housing', 'loan']\n"
          ]
        }
      ]
    },
    {
      "cell_type": "markdown",
      "source": [
        "## 3. Preprocessing\n"
      ],
      "metadata": {
        "id": "T3cK-EdZsRRj"
      }
    },
    {
      "cell_type": "code",
      "source": [
        "df_cleaned['y'] = df_cleaned['y'].map({'yes': 1, 'no': 0})"
      ],
      "metadata": {
        "id": "aLMsY5KmsRBt"
      },
      "execution_count": null,
      "outputs": []
    },
    {
      "cell_type": "code",
      "source": [
        "X = df_cleaned.drop('y', axis=1)\n",
        "y = df_cleaned['y']"
      ],
      "metadata": {
        "id": "B6M0lfpGrcXx"
      },
      "execution_count": null,
      "outputs": []
    },
    {
      "cell_type": "code",
      "source": [
        "categorical_cols = X.select_dtypes(include='object').columns.tolist()\n",
        "numeric_cols = X.select_dtypes(exclude='object').columns.tolist()\n"
      ],
      "metadata": {
        "id": "1jT6QDvpsX40"
      },
      "execution_count": null,
      "outputs": []
    },
    {
      "cell_type": "code",
      "source": [
        "preprocessor = ColumnTransformer(\n",
        "    transformers=[\n",
        "        ('num', StandardScaler(), numeric_cols),  # Ölçekleme (StandardScaler) mean=0, std=1 yapar\n",
        "        ('cat', OneHotEncoder(handle_unknown='ignore'), categorical_cols)  # Kategorikleri encode eder\n",
        "    ]\n",
        ")"
      ],
      "metadata": {
        "id": "fgw-00_fsZ1O"
      },
      "execution_count": null,
      "outputs": []
    },
    {
      "cell_type": "code",
      "source": [
        "X_train, X_test, y_train, y_test = train_test_split(\n",
        "    X, y, stratify=y, test_size=0.2, random_state=42\n",
        ")"
      ],
      "metadata": {
        "id": "-DuZ7SKzsdFU"
      },
      "execution_count": null,
      "outputs": []
    },
    {
      "cell_type": "code",
      "source": [
        "smote_pipeline = ImbPipeline(steps=[\n",
        "    ('preprocessing', preprocessor),\n",
        "    ('smote', SMOTE(random_state=42))\n",
        "])"
      ],
      "metadata": {
        "id": "5kvB5cmEsg7R"
      },
      "execution_count": null,
      "outputs": []
    },
    {
      "cell_type": "code",
      "source": [
        "X_train_resampled, y_train_resampled = smote_pipeline.fit_resample(X_train, y_train)"
      ],
      "metadata": {
        "id": "b5NYdWNasiyS"
      },
      "execution_count": null,
      "outputs": []
    },
    {
      "cell_type": "code",
      "source": [
        "print(\"Preprocessing complete.\")\n",
        "print(\"Resampled training target distribution:\")\n",
        "print(pd.Series(y_train_resampled).value_counts())"
      ],
      "metadata": {
        "colab": {
          "base_uri": "https://localhost:8080/"
        },
        "id": "zlyJTL4RskzW",
        "outputId": "a0febca4-5e7c-4536-d7e7-be0c34d96e2f"
      },
      "execution_count": null,
      "outputs": [
        {
          "output_type": "stream",
          "name": "stdout",
          "text": [
            "Preprocessing complete.\n",
            "Resampled training target distribution:\n",
            "y\n",
            "1    2934\n",
            "0    2934\n",
            "Name: count, dtype: int64\n"
          ]
        }
      ]
    },
    {
      "cell_type": "code",
      "source": [
        "X_test_transformed = smote_pipeline.named_steps['preprocessing'].transform(X_test)"
      ],
      "metadata": {
        "id": "w9JAUjqlsqID"
      },
      "execution_count": null,
      "outputs": []
    },
    {
      "cell_type": "code",
      "source": [
        "print(\"\\n First 10 rows of X_train_resampled:\")\n",
        "print(pd.DataFrame(X_train_resampled).head(10))"
      ],
      "metadata": {
        "colab": {
          "base_uri": "https://localhost:8080/"
        },
        "id": "PUwBK0_XssuJ",
        "outputId": "9d02f179-25d0-498f-815c-8ebdc6526ed9"
      },
      "execution_count": null,
      "outputs": [
        {
          "output_type": "stream",
          "name": "stdout",
          "text": [
            "\n",
            " First 10 rows of X_train_resampled:\n",
            "         0         1         2        3         4         5         6   \\\n",
            "0  0.753520  3.137154  0.191474  0.20669 -0.363291 -1.191328 -1.170168   \n",
            "1 -0.596326  0.439116 -0.202105  0.20669  1.426013 -1.191328 -1.170168   \n",
            "2  0.657102 -0.378471 -0.595684  0.20669 -0.363291 -1.191328 -1.170168   \n",
            "3  1.042773 -0.039756  0.191474  0.20669 -0.363291  0.849013 -0.224400   \n",
            "4 -1.078413 -0.429084 -0.595684  0.20669 -0.363291 -1.191328 -1.170168   \n",
            "5 -0.981996  0.006963 -0.202105  0.20669  1.426013 -0.107397 -0.643215   \n",
            "6  0.078597  0.143228 -0.202105  0.20669 -0.363291  0.657731  0.719651   \n",
            "7  0.271432 -0.697719 -0.595684  0.20669 -0.363291  0.657731  0.719651   \n",
            "8  0.657102 -0.429084  1.765791  0.20669 -0.363291  0.849013 -0.224400   \n",
            "9 -0.403491 -0.643214 -0.202105  0.20669 -0.363291  0.849013 -0.224400   \n",
            "\n",
            "         7         8         9   ...   45   46   47   48   49   50   51   52  \\\n",
            "0 -1.251261 -1.333391 -0.895014  ...  0.0  0.0  0.0  0.0  0.0  1.0  0.0  0.0   \n",
            "1 -1.251261 -1.302893 -0.895014  ...  0.0  0.0  0.0  0.0  0.0  1.0  0.0  1.0   \n",
            "2 -1.251261 -1.308647 -0.895014  ...  0.0  0.0  0.0  0.0  0.0  0.0  1.0  0.0   \n",
            "3  0.929473  0.779600  0.841761  ...  0.0  0.0  0.0  0.0  1.0  0.0  0.0  0.0   \n",
            "4 -1.251261 -1.339145 -0.895014  ...  0.0  0.0  0.0  0.0  0.0  0.0  1.0  0.0   \n",
            "5 -0.344421  0.237542  0.406894  ...  0.0  0.0  1.0  0.0  0.0  0.0  0.0  1.0   \n",
            "6  0.864699  0.718604  0.342270  ...  0.0  0.0  0.0  0.0  0.0  1.0  0.0  0.0   \n",
            "7  0.864699  0.718604  0.342270  ...  0.0  0.0  0.0  1.0  0.0  0.0  0.0  0.0   \n",
            "8  0.929473  0.780751  0.841761  ...  0.0  0.0  0.0  0.0  0.0  1.0  0.0  0.0   \n",
            "9  0.929473  0.779600  0.841761  ...  0.0  0.0  0.0  1.0  0.0  0.0  0.0  0.0   \n",
            "\n",
            "    53   54  \n",
            "0  1.0  0.0  \n",
            "1  0.0  0.0  \n",
            "2  1.0  0.0  \n",
            "3  1.0  0.0  \n",
            "4  1.0  0.0  \n",
            "5  0.0  0.0  \n",
            "6  1.0  0.0  \n",
            "7  1.0  0.0  \n",
            "8  1.0  0.0  \n",
            "9  1.0  0.0  \n",
            "\n",
            "[10 rows x 55 columns]\n"
          ]
        }
      ]
    },
    {
      "cell_type": "code",
      "source": [
        "print(\"\\n First 10 rows of X_test_transformed:\")\n",
        "print(pd.DataFrame(X_test_transformed).head(10))"
      ],
      "metadata": {
        "colab": {
          "base_uri": "https://localhost:8080/"
        },
        "id": "pM4Duz5Rs2pC",
        "outputId": "aef3b50d-c353-4e78-c299-87499441a98a"
      },
      "execution_count": null,
      "outputs": [
        {
          "output_type": "stream",
          "name": "stdout",
          "text": [
            "\n",
            " First 10 rows of X_test_transformed:\n",
            "         0         1         2         3         4         5         6   \\\n",
            "0  0.078597  0.606527 -0.595684  0.206690  1.426013 -1.191328 -0.857772   \n",
            "1 -1.560501 -0.760012  0.191474  0.206690 -0.363291 -1.191328 -1.170168   \n",
            "2 -0.885578 -0.214954 -0.202105  0.206690 -0.363291  0.849013 -0.224400   \n",
            "3 -0.692743 -0.456336 -0.202105  0.206690 -0.363291  0.657731  0.719651   \n",
            "4 -0.210656 -0.211060  0.191474  0.206690  1.426013 -1.191328 -1.170168   \n",
            "5 -0.596326 -0.214954 -0.202105 -4.837105  1.426013 -0.107397 -0.643215   \n",
            "6 -1.078413  0.707752 -0.595684  0.206690 -0.363291  0.849013  0.589200   \n",
            "7  0.946355 -0.413510  0.978633  0.206690 -0.363291  0.849013  0.589200   \n",
            "8  0.271432 -0.148768  0.191474  0.206690 -0.363291  0.657731  0.719651   \n",
            "9 -0.596326 -0.580921 -0.595684  0.206690 -0.363291  0.849013 -0.224400   \n",
            "\n",
            "         7         8         9   ...   45   46   47   48   49   50   51   52  \\\n",
            "0 -1.445584 -1.267792 -0.895014  ...  0.0  0.0  1.0  0.0  0.0  0.0  0.0  1.0   \n",
            "1 -1.251261 -1.360436 -0.895014  ...  0.0  0.0  0.0  1.0  0.0  0.0  0.0  0.0   \n",
            "2  0.929473  0.781326  0.841761  ...  0.0  0.0  0.0  0.0  0.0  1.0  0.0  0.0   \n",
            "3  0.864699  0.720330  0.342270  ...  0.0  0.0  0.0  0.0  1.0  0.0  0.0  0.0   \n",
            "4 -1.251261 -1.360436 -0.895014  ...  0.0  0.0  0.0  1.0  0.0  0.0  0.0  1.0   \n",
            "5 -0.344421  0.294510  0.406894  ...  0.0  0.0  0.0  0.0  0.0  0.0  1.0  0.0   \n",
            "6 -0.495561  0.779600  0.841761  ...  0.0  0.0  0.0  0.0  0.0  0.0  1.0  0.0   \n",
            "7 -0.495561  0.779024  0.841761  ...  0.0  0.0  0.0  0.0  1.0  0.0  0.0  0.0   \n",
            "8  0.864699  0.719755  0.342270  ...  0.0  0.0  1.0  0.0  0.0  0.0  0.0  0.0   \n",
            "9  0.929473  0.780175  0.841761  ...  0.0  0.0  1.0  0.0  0.0  0.0  0.0  0.0   \n",
            "\n",
            "    53   54  \n",
            "0  0.0  0.0  \n",
            "1  1.0  0.0  \n",
            "2  1.0  0.0  \n",
            "3  1.0  0.0  \n",
            "4  0.0  0.0  \n",
            "5  0.0  1.0  \n",
            "6  1.0  0.0  \n",
            "7  1.0  0.0  \n",
            "8  1.0  0.0  \n",
            "9  1.0  0.0  \n",
            "\n",
            "[10 rows x 55 columns]\n"
          ]
        }
      ]
    },
    {
      "cell_type": "code",
      "source": [
        "print(\" class distrubution (SMOTE sonrası):\")\n",
        "print(pd.Series(y_train_resampled).value_counts())"
      ],
      "metadata": {
        "colab": {
          "base_uri": "https://localhost:8080/"
        },
        "id": "c5yegejAs5K7",
        "outputId": "92b316b4-bbb8-4fd0-9317-7d42dc01a578"
      },
      "execution_count": null,
      "outputs": [
        {
          "output_type": "stream",
          "name": "stdout",
          "text": [
            " class distrubution (SMOTE sonrası):\n",
            "y\n",
            "1    2934\n",
            "0    2934\n",
            "Name: count, dtype: int64\n"
          ]
        }
      ]
    },
    {
      "cell_type": "code",
      "source": [
        "# Oranları da görelim\n",
        "print(\"\\n class rate (%):\")\n",
        "print(pd.Series(y_train_resampled).value_counts(normalize=True) * 100)\n",
        "# 0: 50.0% (2000), 1: 50.0% (2000) şeklinde çıktı alırız yani sınıf dengesizliği giderildi."
      ],
      "metadata": {
        "colab": {
          "base_uri": "https://localhost:8080/"
        },
        "id": "JUBGCgSjs8TN",
        "outputId": "4c954369-63a9-4979-a97f-a2913dc85917"
      },
      "execution_count": null,
      "outputs": [
        {
          "output_type": "stream",
          "name": "stdout",
          "text": [
            "\n",
            " class rate (%):\n",
            "y\n",
            "1    50.0\n",
            "0    50.0\n",
            "Name: proportion, dtype: float64\n"
          ]
        }
      ]
    },
    {
      "cell_type": "code",
      "source": [
        "plt.figure(figsize=(16,6))\n",
        "sns.heatmap(df.select_dtypes(include='number').corr(), annot=True, cmap='coolwarm')\n",
        "plt.show()"
      ],
      "metadata": {
        "colab": {
          "base_uri": "https://localhost:8080/",
          "height": 528
        },
        "id": "P7vszd2a0Z9s",
        "outputId": "eb4ac221-f35e-4dcf-e076-5104f430e8f0"
      },
      "execution_count": null,
      "outputs": [
        {
          "output_type": "display_data",
          "data": {
            "text/plain": [
              "<Figure size 1600x600 with 2 Axes>"
            ],
            "image/png": "[encoded data removed]"
          },
          "metadata": {}
        }
      ]
    },
    {
      "cell_type": "markdown",
      "source": [
        "## 4. Feature Selection"
      ],
      "metadata": {
        "id": "NpNOaGr8uUgB"
      }
    },
    {
      "cell_type": "code",
      "source": [
        "#Neden feature selection yapıyoruz?\n",
        "#OneHotEncoder sonrası sütun sayısı arttı (55 oldu)\n",
        "#Hepsi model için anlamlı olmayabilir\n",
        "#Biz en bilgilendirici olanları seçmek istiyoruz → bu hem performans artırır, hem hız kazandırır(K tane özellik seçeceğiz)\n",
        "\n",
        "#mutual_info_classif: Her bir özelliğin hedef değişkenle olan bilgi bağımlılığını hesaplar.\n",
        "selector = SelectKBest(score_func=mutual_info_classif, k=20)\n",
        "X_train_selected = selector.fit_transform(X_train_resampled, y_train_resampled)\n",
        "X_test_selected = selector.transform(X_test_transformed)\n",
        "print(\"Feature selection completed.\")"
      ],
      "metadata": {
        "colab": {
          "base_uri": "https://localhost:8080/"
        },
        "id": "iv_mZhHluY7V",
        "outputId": "dca19033-09e7-4beb-934b-3907cc08cfa8"
      },
      "execution_count": null,
      "outputs": [
        {
          "output_type": "stream",
          "name": "stdout",
          "text": [
            "Feature selection completed.\n"
          ]
        }
      ]
    },
    {
      "cell_type": "code",
      "source": [
        "# Eğitim verisinin şekli (özellik sayısı 20 olmalı)\n",
        "print(\"\\n X_train_selected shape:\", X_train_selected.shape)\n"
      ],
      "metadata": {
        "colab": {
          "base_uri": "https://localhost:8080/"
        },
        "id": "E_vUqcqqume0",
        "outputId": "984c8cff-3aa9-4b3b-8b95-c0643986d805"
      },
      "execution_count": null,
      "outputs": [
        {
          "output_type": "stream",
          "name": "stdout",
          "text": [
            "\n",
            " X_train_selected shape: (5868, 20)\n"
          ]
        }
      ]
    },
    {
      "cell_type": "code",
      "source": [
        "\n",
        "# Test verisinin şekli (özellik sayısı 20 olmalı)\n",
        "print(\" X_test_selected shape:\", X_test_selected.shape)"
      ],
      "metadata": {
        "colab": {
          "base_uri": "https://localhost:8080/"
        },
        "id": "_R3F6V0cupeh",
        "outputId": "a29d2bcf-2b45-49f3-b580-7f121a99ea02"
      },
      "execution_count": null,
      "outputs": [
        {
          "output_type": "stream",
          "name": "stdout",
          "text": [
            " X_test_selected shape: (824, 20)\n"
          ]
        }
      ]
    },
    {
      "cell_type": "code",
      "source": [
        "\n",
        "# SMOTE sonrası sınıf dağılımı (beklenen: 50/50)\n",
        "print(\"\\n Class distribution after SMOTE:\")\n",
        "print(y_train_resampled.value_counts())"
      ],
      "metadata": {
        "colab": {
          "base_uri": "https://localhost:8080/"
        },
        "id": "HJTUBAJXu429",
        "outputId": "7e422c54-a159-429c-c5f4-91e84a2f3b41"
      },
      "execution_count": null,
      "outputs": [
        {
          "output_type": "stream",
          "name": "stdout",
          "text": [
            "\n",
            " Class distribution after SMOTE:\n",
            "y\n",
            "1    2934\n",
            "0    2934\n",
            "Name: count, dtype: int64\n"
          ]
        }
      ]
    },
    {
      "cell_type": "code",
      "source": [
        "print(\"\\n Class proportion (%):\")\n",
        "print(y_train_resampled.value_counts(normalize=True) * 100)"
      ],
      "metadata": {
        "colab": {
          "base_uri": "https://localhost:8080/"
        },
        "id": "iXBghyu-u6rC",
        "outputId": "52e72a3a-4d33-4c3f-fe08-07331c389688"
      },
      "execution_count": null,
      "outputs": [
        {
          "output_type": "stream",
          "name": "stdout",
          "text": [
            "\n",
            " Class proportion (%):\n",
            "y\n",
            "1    50.0\n",
            "0    50.0\n",
            "Name: proportion, dtype: float64\n"
          ]
        }
      ]
    },
    {
      "cell_type": "code",
      "source": [
        "print(\"\\n First 5 rows of X_train_selected:\")\n",
        "print(pd.DataFrame(X_train_selected).head())"
      ],
      "metadata": {
        "colab": {
          "base_uri": "https://localhost:8080/"
        },
        "id": "H2zgC4uju8cU",
        "outputId": "f198e4d2-2202-4405-d4f3-d365be82f2ba"
      },
      "execution_count": null,
      "outputs": [
        {
          "output_type": "stream",
          "name": "stdout",
          "text": [
            "\n",
            " First 5 rows of X_train_selected:\n",
            "         0         1         2         3         4         5         6   \\\n",
            "0  0.753520  3.137154  0.191474 -1.191328 -1.170168 -1.251261 -1.333391   \n",
            "1 -0.596326  0.439116 -0.202105 -1.191328 -1.170168 -1.251261 -1.302893   \n",
            "2  0.657102 -0.378471 -0.595684 -1.191328 -1.170168 -1.251261 -1.308647   \n",
            "3  1.042773 -0.039756  0.191474  0.849013 -0.224400  0.929473  0.779600   \n",
            "4 -1.078413 -0.429084 -0.595684 -1.191328 -1.170168 -1.251261 -1.339145   \n",
            "\n",
            "         7    8    9    10   11   12   13   14   15   16   17   18   19  \n",
            "0 -0.895014  1.0  0.0  0.0  0.0  1.0  1.0  0.0  0.0  0.0  0.0  1.0  0.0  \n",
            "1 -0.895014  0.0  1.0  1.0  0.0  0.0  0.0  1.0  0.0  0.0  0.0  1.0  0.0  \n",
            "2 -0.895014  0.0  0.0  0.0  0.0  0.0  1.0  0.0  0.0  0.0  0.0  0.0  1.0  \n",
            "3  0.841761  0.0  1.0  0.0  1.0  0.0  0.0  1.0  0.0  0.0  1.0  0.0  0.0  \n",
            "4 -0.895014  0.0  0.0  1.0  0.0  0.0  0.0  1.0  0.0  0.0  0.0  0.0  1.0  \n"
          ]
        }
      ]
    },
    {
      "cell_type": "code",
      "source": [
        "print(\"\\n First 5 rows of X_test_selected:\")\n",
        "print(pd.DataFrame(X_test_selected).head())\n"
      ],
      "metadata": {
        "colab": {
          "base_uri": "https://localhost:8080/"
        },
        "id": "bQdcwy4gvA55",
        "outputId": "ccdd7c98-a34e-41e1-e8c4-60370125ee81"
      },
      "execution_count": null,
      "outputs": [
        {
          "output_type": "stream",
          "name": "stdout",
          "text": [
            "\n",
            " First 5 rows of X_test_selected:\n",
            "         0         1         2         3         4         5         6   \\\n",
            "0  0.078597  0.606527 -0.595684 -1.191328 -0.857772 -1.445584 -1.267792   \n",
            "1 -1.560501 -0.760012  0.191474 -1.191328 -1.170168 -1.251261 -1.360436   \n",
            "2 -0.885578 -0.214954 -0.202105  0.849013 -0.224400  0.929473  0.781326   \n",
            "3 -0.692743 -0.456336 -0.202105  0.657731  0.719651  0.864699  0.720330   \n",
            "4 -0.210656 -0.211060  0.191474 -1.191328 -1.170168 -1.251261 -1.360436   \n",
            "\n",
            "         7    8    9    10   11   12   13   14   15   16   17   18   19  \n",
            "0 -0.895014  0.0  1.0  0.0  0.0  0.0  1.0  0.0  1.0  0.0  0.0  0.0  0.0  \n",
            "1 -0.895014  0.0  0.0  0.0  0.0  0.0  0.0  1.0  0.0  1.0  0.0  0.0  0.0  \n",
            "2  0.841761  0.0  1.0  0.0  0.0  1.0  1.0  0.0  0.0  0.0  0.0  1.0  0.0  \n",
            "3  0.342270  1.0  1.0  0.0  0.0  1.0  0.0  1.0  0.0  0.0  1.0  0.0  0.0  \n",
            "4 -0.895014  0.0  0.0  0.0  1.0  0.0  0.0  1.0  0.0  1.0  0.0  0.0  0.0  \n"
          ]
        }
      ]
    },
    {
      "cell_type": "code",
      "source": [
        "feature_names = preprocessor.get_feature_names_out()\n",
        "selected_features = feature_names[selector.get_support()]\n",
        "print(\"Selected Features:\", selected_features)"
      ],
      "metadata": {
        "colab": {
          "base_uri": "https://localhost:8080/"
        },
        "id": "Rf89V6Pe3fVK",
        "outputId": "14b7dd84-95b3-4b5e-bcd0-6007cb608da3"
      },
      "execution_count": null,
      "outputs": [
        {
          "output_type": "stream",
          "name": "stdout",
          "text": [
            "Selected Features: ['num__age' 'num__duration' 'num__campaign' 'num__emp.var.rate'\n",
            " 'num__cons.price.idx' 'num__cons.conf.idx' 'num__euribor3m'\n",
            " 'num__nr.employed' 'cat__job_admin.' 'cat__marital_married'\n",
            " 'cat__education_high.school' 'cat__education_professional.course'\n",
            " 'cat__education_university.degree' 'cat__housing_no' 'cat__housing_yes'\n",
            " 'cat__day_of_week_fri' 'cat__day_of_week_mon' 'cat__day_of_week_thu'\n",
            " 'cat__day_of_week_tue' 'cat__day_of_week_wed']\n"
          ]
        }
      ]
    },
    {
      "cell_type": "code",
      "source": [
        "scores = selector.scores_[selector.get_support()]\n",
        "plt.barh(selected_features, scores, color='red')\n",
        "plt.title(\"Top 15 Features (Filter Method - ANOVA F-Value)\")\n",
        "plt.xlabel(\"F-Value Score\")\n",
        "plt.ylabel(\"Features\")\n",
        "plt.show()"
      ],
      "metadata": {
        "colab": {
          "base_uri": "https://localhost:8080/",
          "height": 472
        },
        "id": "9DEaUDYP3Use",
        "outputId": "5fc112b4-d741-47cd-cb3e-21e76bfff36a"
      },
      "execution_count": null,
      "outputs": [
        {
          "output_type": "display_data",
          "data": {
            "text/plain": [
              "<Figure size 640x480 with 1 Axes>"
            ],
            "image/png": "[encoded data removed]"
          },
          "metadata": {}
        }
      ]
    },
    {
      "cell_type": "markdown",
      "source": [
        "## 5. Model Selection"
      ],
      "metadata": {
        "id": "H8_lFEv2vXOB"
      }
    },
    {
      "cell_type": "code",
      "source": [
        "from sklearn.pipeline import Pipeline\n",
        "from sklearn.linear_model import LogisticRegression\n",
        "from sklearn.tree import DecisionTreeClassifier\n",
        "from sklearn.ensemble import RandomForestClassifier\n",
        "from sklearn.metrics import classification_report, roc_auc_score, mean_squared_error\n",
        "import numpy as np"
      ],
      "metadata": {
        "id": "QYQ24y48vKkq"
      },
      "execution_count": null,
      "outputs": []
    },
    {
      "cell_type": "code",
      "source": [
        "models = {\n",
        "    \"Logistic Regression\": LogisticRegression(max_iter=500),\n",
        "    \"Decision Tree\": DecisionTreeClassifier(random_state=42),\n",
        "    \"Random Forest\": RandomForestClassifier(random_state=42)\n",
        "}"
      ],
      "metadata": {
        "id": "ZNu-xfcAveFV"
      },
      "execution_count": null,
      "outputs": []
    },
    {
      "cell_type": "code",
      "source": [
        "for name, model in models.items():\n",
        "    # Build a pipeline with preprocessing, SMOTE, feature selection, and classifier\n",
        "    pipeline = ImbPipeline(steps=[\n",
        "        ('preprocessor', preprocessor),  # Scaling + Encoding\n",
        "        ('smote', SMOTE(random_state=42)),  # Handle imbalance\n",
        "        ('feature_selector', SelectKBest(score_func=f_classif, k=20)),  # Feature selection\n",
        "        ('classifier', model)  # ML model\n",
        "    ])\n",
        "\n",
        "    # Train the pipeline on original X_train/y_train (pipeline handles resampling + preprocessing)\n",
        "    pipeline.fit(X_train, y_train)\n",
        "\n",
        "    # Predict on original X_test (which is untouched)\n",
        "    y_pred = pipeline.predict(X_test)\n",
        "    y_proba = pipeline.predict_proba(X_test)[:, 1]\n",
        "\n",
        "    # Evaluation\n",
        "    train_score = pipeline.score(X_train, y_train)\n",
        "    test_score = pipeline.score(X_test, y_test)\n",
        "    rmse = np.sqrt(mean_squared_error(y_test, y_pred))\n",
        "    auc = roc_auc_score(y_test, y_proba)\n",
        "\n",
        "    print(f\"Model: {name}\")\n",
        "    print(f\"Training Score: {train_score:.3f}\")\n",
        "    print(f\"Test Score: {test_score:.3f}\")\n",
        "    print(f\"RMSE: {rmse:.3f}\")\n",
        "    print(f\"ROC-AUC: {auc:.3f}\")\n",
        "    print(\"Classification Report:\\n\", classification_report(y_test, y_pred))\n",
        "    print(\"-\" * 50)"
      ],
      "metadata": {
        "colab": {
          "base_uri": "https://localhost:8080/"
        },
        "id": "HUTVVlnTvs49",
        "outputId": "9d6b6268-2bdd-431a-def5-7d5315da2d92"
      },
      "execution_count": null,
      "outputs": [
        {
          "output_type": "stream",
          "name": "stdout",
          "text": [
            "Model: Logistic Regression\n",
            "Training Score: 0.866\n",
            "Test Score: 0.876\n",
            "RMSE: 0.352\n",
            "ROC-AUC: 0.944\n",
            "Classification Report:\n",
            "               precision    recall  f1-score   support\n",
            "\n",
            "           0       0.98      0.88      0.93       734\n",
            "           1       0.46      0.84      0.60        90\n",
            "\n",
            "    accuracy                           0.88       824\n",
            "   macro avg       0.72      0.86      0.76       824\n",
            "weighted avg       0.92      0.88      0.89       824\n",
            "\n",
            "--------------------------------------------------\n",
            "Model: Decision Tree\n",
            "Training Score: 1.000\n",
            "Test Score: 0.890\n",
            "RMSE: 0.332\n",
            "ROC-AUC: 0.758\n",
            "Classification Report:\n",
            "               precision    recall  f1-score   support\n",
            "\n",
            "           0       0.95      0.93      0.94       734\n",
            "           1       0.50      0.59      0.54        90\n",
            "\n",
            "    accuracy                           0.89       824\n",
            "   macro avg       0.72      0.76      0.74       824\n",
            "weighted avg       0.90      0.89      0.89       824\n",
            "\n",
            "--------------------------------------------------\n",
            "Model: Random Forest\n",
            "Training Score: 1.000\n",
            "Test Score: 0.908\n",
            "RMSE: 0.304\n",
            "ROC-AUC: 0.933\n",
            "Classification Report:\n",
            "               precision    recall  f1-score   support\n",
            "\n",
            "           0       0.95      0.95      0.95       734\n",
            "           1       0.58      0.56      0.57        90\n",
            "\n",
            "    accuracy                           0.91       824\n",
            "   macro avg       0.76      0.75      0.76       824\n",
            "weighted avg       0.91      0.91      0.91       824\n",
            "\n",
            "--------------------------------------------------\n"
          ]
        }
      ]
    },
    {
      "cell_type": "markdown",
      "source": [
        "Choosing the Final Model From the examples in the above table:\n",
        "\n",
        "Random Forest has the high ROC-AUC (0.933) and a lowest RMSE (0.304). Random Forest performs satisfactorily on training and test scores to reflect no significant overfitting. It has a good solid F1-score (0.95) for subscribed class, so it is suitable for an imbalanced classification task. That is why Random Forest would be the final model."
      ],
      "metadata": {
        "id": "AqoMACZBy8i5"
      }
    },
    {
      "cell_type": "markdown",
      "source": [
        "# 6. Hyperparameter Tuning using GridSearchCV"
      ],
      "metadata": {
        "id": "5w02POyE6V65"
      }
    },
    {
      "cell_type": "code",
      "source": [
        "from sklearn.model_selection import GridSearchCV\n",
        "from sklearn.metrics import confusion_matrix\n"
      ],
      "metadata": {
        "id": "ZsrUVF5nvwJf"
      },
      "execution_count": null,
      "outputs": []
    },
    {
      "cell_type": "code",
      "source": [
        "# Define hyperparameter grid for Random Forest\n",
        "rf_param_grid = {\n",
        "    'classifier__n_estimators': [50, 100, 150],\n",
        "    'classifier__max_depth': [None, 10, 20, 30],\n",
        "    'classifier__min_samples_split': [2, 5, 10],\n",
        "    'classifier__min_samples_leaf': [1, 2, 4]\n",
        "}\n",
        "\n",
        "# Define the full pipeline with SMOTE and feature selection\n",
        "tuned_rf_pipeline = ImbPipeline(steps=[\n",
        "    ('preprocessor', preprocessor),  # scaling + encoding\n",
        "    ('smote', SMOTE(random_state=42)),  # resampling handled inside pipeline\n",
        "    ('feature_selector', SelectKBest(score_func=f_classif, k=20)),  # select top 20 features\n",
        "    ('classifier', RandomForestClassifier(random_state=42))  # Random Forest model\n",
        "])\n",
        "\n"
      ],
      "metadata": {
        "id": "QTDpIIwBvwvA"
      },
      "execution_count": null,
      "outputs": []
    },
    {
      "cell_type": "code",
      "source": [
        "rf_grid_search = GridSearchCV(\n",
        "    tuned_rf_pipeline,\n",
        "    param_grid=rf_param_grid,\n",
        "    cv=3,\n",
        "    scoring='roc_auc',\n",
        "    verbose=2\n",
        ")\n",
        "# Fit the grid search on the ORIGINAL (unresampled) train set\n",
        "rf_grid_search.fit(X_train, y_train)\n",
        "\n",
        "# Best model and parameters\n",
        "print(\"Best Parameters for Random Forest:\", rf_grid_search.best_params_)\n",
        "best_rf_pipeline = rf_grid_search.best_estimator_"
      ],
      "metadata": {
        "colab": {
          "base_uri": "https://localhost:8080/"
        },
        "id": "p709D-586tUZ",
        "outputId": "fd4a9698-8529-492b-9057-0e450af03413"
      },
      "execution_count": null,
      "outputs": [
        {
          "output_type": "stream",
          "name": "stdout",
          "text": [
            "Fitting 3 folds for each of 108 candidates, totalling 324 fits\n",
            "[CV] END classifier__max_depth=None, classifier__min_samples_leaf=1, classifier__min_samples_split=2, classifier__n_estimators=50; total time=   0.7s\n",
            "[CV] END classifier__max_depth=None, classifier__min_samples_leaf=1, classifier__min_samples_split=2, classifier__n_estimators=50; total time=   0.8s\n",
            "[CV] END classifier__max_depth=None, classifier__min_samples_leaf=1, classifier__min_samples_split=2, classifier__n_estimators=50; total time=   1.0s\n",
            "[CV] END classifier__max_depth=None, classifier__min_samples_leaf=1, classifier__min_samples_split=2, classifier__n_estimators=100; total time=   3.0s\n",
            "[CV] END classifier__max_depth=None, classifier__min_samples_leaf=1, classifier__min_samples_split=2, classifier__n_estimators=100; total time=   2.2s\n",
            "[CV] END classifier__max_depth=None, classifier__min_samples_leaf=1, classifier__min_samples_split=2, classifier__n_estimators=100; total time=   1.6s\n",
            "[CV] END classifier__max_depth=None, classifier__min_samples_leaf=1, classifier__min_samples_split=2, classifier__n_estimators=150; total time=   2.1s\n",
            "[CV] END classifier__max_depth=None, classifier__min_samples_leaf=1, classifier__min_samples_split=2, classifier__n_estimators=150; total time=   1.7s\n",
            "[CV] END classifier__max_depth=None, classifier__min_samples_leaf=1, classifier__min_samples_split=2, classifier__n_estimators=150; total time=   0.9s\n",
            "[CV] END classifier__max_depth=None, classifier__min_samples_leaf=1, classifier__min_samples_split=5, classifier__n_estimators=50; total time=   0.3s\n",
            "[CV] END classifier__max_depth=None, classifier__min_samples_leaf=1, classifier__min_samples_split=5, classifier__n_estimators=50; total time=   0.3s\n",
            "[CV] END classifier__max_depth=None, classifier__min_samples_leaf=1, classifier__min_samples_split=5, classifier__n_estimators=50; total time=   0.3s\n",
            "[CV] END classifier__max_depth=None, classifier__min_samples_leaf=1, classifier__min_samples_split=5, classifier__n_estimators=100; total time=   0.6s\n",
            "[CV] END classifier__max_depth=None, classifier__min_samples_leaf=1, classifier__min_samples_split=5, classifier__n_estimators=100; total time=   0.6s\n",
            "[CV] END classifier__max_depth=None, classifier__min_samples_leaf=1, classifier__min_samples_split=5, classifier__n_estimators=100; total time=   0.8s\n",
            "[CV] END classifier__max_depth=None, classifier__min_samples_leaf=1, classifier__min_samples_split=5, classifier__n_estimators=150; total time=   1.3s\n",
            "[CV] END classifier__max_depth=None, classifier__min_samples_leaf=1, classifier__min_samples_split=5, classifier__n_estimators=150; total time=   1.1s\n",
            "[CV] END classifier__max_depth=None, classifier__min_samples_leaf=1, classifier__min_samples_split=5, classifier__n_estimators=150; total time=   0.9s\n",
            "[CV] END classifier__max_depth=None, classifier__min_samples_leaf=1, classifier__min_samples_split=10, classifier__n_estimators=50; total time=   0.3s\n",
            "[CV] END classifier__max_depth=None, classifier__min_samples_leaf=1, classifier__min_samples_split=10, classifier__n_estimators=50; total time=   0.3s\n",
            "[CV] END classifier__max_depth=None, classifier__min_samples_leaf=1, classifier__min_samples_split=10, classifier__n_estimators=50; total time=   0.3s\n",
            "[CV] END classifier__max_depth=None, classifier__min_samples_leaf=1, classifier__min_samples_split=10, classifier__n_estimators=100; total time=   0.6s\n",
            "[CV] END classifier__max_depth=None, classifier__min_samples_leaf=1, classifier__min_samples_split=10, classifier__n_estimators=100; total time=   0.6s\n",
            "[CV] END classifier__max_depth=None, classifier__min_samples_leaf=1, classifier__min_samples_split=10, classifier__n_estimators=100; total time=   0.6s\n",
            "[CV] END classifier__max_depth=None, classifier__min_samples_leaf=1, classifier__min_samples_split=10, classifier__n_estimators=150; total time=   0.9s\n",
            "[CV] END classifier__max_depth=None, classifier__min_samples_leaf=1, classifier__min_samples_split=10, classifier__n_estimators=150; total time=   0.9s\n",
            "[CV] END classifier__max_depth=None, classifier__min_samples_leaf=1, classifier__min_samples_split=10, classifier__n_estimators=150; total time=   0.9s\n",
            "[CV] END classifier__max_depth=None, classifier__min_samples_leaf=2, classifier__min_samples_split=2, classifier__n_estimators=50; total time=   0.3s\n",
            "[CV] END classifier__max_depth=None, classifier__min_samples_leaf=2, classifier__min_samples_split=2, classifier__n_estimators=50; total time=   0.3s\n",
            "[CV] END classifier__max_depth=None, classifier__min_samples_leaf=2, classifier__min_samples_split=2, classifier__n_estimators=50; total time=   0.3s\n",
            "[CV] END classifier__max_depth=None, classifier__min_samples_leaf=2, classifier__min_samples_split=2, classifier__n_estimators=100; total time=   0.6s\n",
            "[CV] END classifier__max_depth=None, classifier__min_samples_leaf=2, classifier__min_samples_split=2, classifier__n_estimators=100; total time=   0.6s\n",
            "[CV] END classifier__max_depth=None, classifier__min_samples_leaf=2, classifier__min_samples_split=2, classifier__n_estimators=100; total time=   0.6s\n",
            "[CV] END classifier__max_depth=None, classifier__min_samples_leaf=2, classifier__min_samples_split=2, classifier__n_estimators=150; total time=   1.2s\n",
            "[CV] END classifier__max_depth=None, classifier__min_samples_leaf=2, classifier__min_samples_split=2, classifier__n_estimators=150; total time=   1.3s\n",
            "[CV] END classifier__max_depth=None, classifier__min_samples_leaf=2, classifier__min_samples_split=2, classifier__n_estimators=150; total time=   1.0s\n",
            "[CV] END classifier__max_depth=None, classifier__min_samples_leaf=2, classifier__min_samples_split=5, classifier__n_estimators=50; total time=   0.3s\n",
            "[CV] END classifier__max_depth=None, classifier__min_samples_leaf=2, classifier__min_samples_split=5, classifier__n_estimators=50; total time=   0.3s\n",
            "[CV] END classifier__max_depth=None, classifier__min_samples_leaf=2, classifier__min_samples_split=5, classifier__n_estimators=50; total time=   0.3s\n",
            "[CV] END classifier__max_depth=None, classifier__min_samples_leaf=2, classifier__min_samples_split=5, classifier__n_estimators=100; total time=   0.6s\n",
            "[CV] END classifier__max_depth=None, classifier__min_samples_leaf=2, classifier__min_samples_split=5, classifier__n_estimators=100; total time=   0.6s\n",
            "[CV] END classifier__max_depth=None, classifier__min_samples_leaf=2, classifier__min_samples_split=5, classifier__n_estimators=100; total time=   0.6s\n",
            "[CV] END classifier__max_depth=None, classifier__min_samples_leaf=2, classifier__min_samples_split=5, classifier__n_estimators=150; total time=   0.9s\n",
            "[CV] END classifier__max_depth=None, classifier__min_samples_leaf=2, classifier__min_samples_split=5, classifier__n_estimators=150; total time=   0.9s\n",
            "[CV] END classifier__max_depth=None, classifier__min_samples_leaf=2, classifier__min_samples_split=5, classifier__n_estimators=150; total time=   0.9s\n",
            "[CV] END classifier__max_depth=None, classifier__min_samples_leaf=2, classifier__min_samples_split=10, classifier__n_estimators=50; total time=   0.3s\n",
            "[CV] END classifier__max_depth=None, classifier__min_samples_leaf=2, classifier__min_samples_split=10, classifier__n_estimators=50; total time=   0.3s\n",
            "[CV] END classifier__max_depth=None, classifier__min_samples_leaf=2, classifier__min_samples_split=10, classifier__n_estimators=50; total time=   0.3s\n",
            "[CV] END classifier__max_depth=None, classifier__min_samples_leaf=2, classifier__min_samples_split=10, classifier__n_estimators=100; total time=   0.6s\n",
            "[CV] END classifier__max_depth=None, classifier__min_samples_leaf=2, classifier__min_samples_split=10, classifier__n_estimators=100; total time=   0.6s\n",
            "[CV] END classifier__max_depth=None, classifier__min_samples_leaf=2, classifier__min_samples_split=10, classifier__n_estimators=100; total time=   0.6s\n",
            "[CV] END classifier__max_depth=None, classifier__min_samples_leaf=2, classifier__min_samples_split=10, classifier__n_estimators=150; total time=   0.9s\n",
            "[CV] END classifier__max_depth=None, classifier__min_samples_leaf=2, classifier__min_samples_split=10, classifier__n_estimators=150; total time=   1.1s\n",
            "[CV] END classifier__max_depth=None, classifier__min_samples_leaf=2, classifier__min_samples_split=10, classifier__n_estimators=150; total time=   1.3s\n",
            "[CV] END classifier__max_depth=None, classifier__min_samples_leaf=4, classifier__min_samples_split=2, classifier__n_estimators=50; total time=   0.5s\n",
            "[CV] END classifier__max_depth=None, classifier__min_samples_leaf=4, classifier__min_samples_split=2, classifier__n_estimators=50; total time=   0.4s\n",
            "[CV] END classifier__max_depth=None, classifier__min_samples_leaf=4, classifier__min_samples_split=2, classifier__n_estimators=50; total time=   0.3s\n",
            "[CV] END classifier__max_depth=None, classifier__min_samples_leaf=4, classifier__min_samples_split=2, classifier__n_estimators=100; total time=   0.6s\n",
            "[CV] END classifier__max_depth=None, classifier__min_samples_leaf=4, classifier__min_samples_split=2, classifier__n_estimators=100; total time=   0.6s\n",
            "[CV] END classifier__max_depth=None, classifier__min_samples_leaf=4, classifier__min_samples_split=2, classifier__n_estimators=100; total time=   0.6s\n",
            "[CV] END classifier__max_depth=None, classifier__min_samples_leaf=4, classifier__min_samples_split=2, classifier__n_estimators=150; total time=   0.8s\n",
            "[CV] END classifier__max_depth=None, classifier__min_samples_leaf=4, classifier__min_samples_split=2, classifier__n_estimators=150; total time=   0.8s\n",
            "[CV] END classifier__max_depth=None, classifier__min_samples_leaf=4, classifier__min_samples_split=2, classifier__n_estimators=150; total time=   0.8s\n",
            "[CV] END classifier__max_depth=None, classifier__min_samples_leaf=4, classifier__min_samples_split=5, classifier__n_estimators=50; total time=   0.3s\n",
            "[CV] END classifier__max_depth=None, classifier__min_samples_leaf=4, classifier__min_samples_split=5, classifier__n_estimators=50; total time=   0.3s\n",
            "[CV] END classifier__max_depth=None, classifier__min_samples_leaf=4, classifier__min_samples_split=5, classifier__n_estimators=50; total time=   0.3s\n",
            "[CV] END classifier__max_depth=None, classifier__min_samples_leaf=4, classifier__min_samples_split=5, classifier__n_estimators=100; total time=   0.6s\n",
            "[CV] END classifier__max_depth=None, classifier__min_samples_leaf=4, classifier__min_samples_split=5, classifier__n_estimators=100; total time=   0.6s\n",
            "[CV] END classifier__max_depth=None, classifier__min_samples_leaf=4, classifier__min_samples_split=5, classifier__n_estimators=100; total time=   0.6s\n",
            "[CV] END classifier__max_depth=None, classifier__min_samples_leaf=4, classifier__min_samples_split=5, classifier__n_estimators=150; total time=   0.9s\n",
            "[CV] END classifier__max_depth=None, classifier__min_samples_leaf=4, classifier__min_samples_split=5, classifier__n_estimators=150; total time=   0.8s\n",
            "[CV] END classifier__max_depth=None, classifier__min_samples_leaf=4, classifier__min_samples_split=5, classifier__n_estimators=150; total time=   0.9s\n",
            "[CV] END classifier__max_depth=None, classifier__min_samples_leaf=4, classifier__min_samples_split=10, classifier__n_estimators=50; total time=   0.5s\n",
            "[CV] END classifier__max_depth=None, classifier__min_samples_leaf=4, classifier__min_samples_split=10, classifier__n_estimators=50; total time=   0.4s\n",
            "[CV] END classifier__max_depth=None, classifier__min_samples_leaf=4, classifier__min_samples_split=10, classifier__n_estimators=50; total time=   0.5s\n",
            "[CV] END classifier__max_depth=None, classifier__min_samples_leaf=4, classifier__min_samples_split=10, classifier__n_estimators=100; total time=   0.9s\n",
            "[CV] END classifier__max_depth=None, classifier__min_samples_leaf=4, classifier__min_samples_split=10, classifier__n_estimators=100; total time=   0.7s\n",
            "[CV] END classifier__max_depth=None, classifier__min_samples_leaf=4, classifier__min_samples_split=10, classifier__n_estimators=100; total time=   0.6s\n",
            "[CV] END classifier__max_depth=None, classifier__min_samples_leaf=4, classifier__min_samples_split=10, classifier__n_estimators=150; total time=   0.9s\n",
            "[CV] END classifier__max_depth=None, classifier__min_samples_leaf=4, classifier__min_samples_split=10, classifier__n_estimators=150; total time=   0.9s\n",
            "[CV] END classifier__max_depth=None, classifier__min_samples_leaf=4, classifier__min_samples_split=10, classifier__n_estimators=150; total time=   0.9s\n",
            "[CV] END classifier__max_depth=10, classifier__min_samples_leaf=1, classifier__min_samples_split=2, classifier__n_estimators=50; total time=   0.3s\n",
            "[CV] END classifier__max_depth=10, classifier__min_samples_leaf=1, classifier__min_samples_split=2, classifier__n_estimators=50; total time=   0.3s\n",
            "[CV] END classifier__max_depth=10, classifier__min_samples_leaf=1, classifier__min_samples_split=2, classifier__n_estimators=50; total time=   0.3s\n",
            "[CV] END classifier__max_depth=10, classifier__min_samples_leaf=1, classifier__min_samples_split=2, classifier__n_estimators=100; total time=   0.6s\n",
            "[CV] END classifier__max_depth=10, classifier__min_samples_leaf=1, classifier__min_samples_split=2, classifier__n_estimators=100; total time=   0.6s\n",
            "[CV] END classifier__max_depth=10, classifier__min_samples_leaf=1, classifier__min_samples_split=2, classifier__n_estimators=100; total time=   0.6s\n",
            "[CV] END classifier__max_depth=10, classifier__min_samples_leaf=1, classifier__min_samples_split=2, classifier__n_estimators=150; total time=   0.9s\n",
            "[CV] END classifier__max_depth=10, classifier__min_samples_leaf=1, classifier__min_samples_split=2, classifier__n_estimators=150; total time=   0.8s\n",
            "[CV] END classifier__max_depth=10, classifier__min_samples_leaf=1, classifier__min_samples_split=2, classifier__n_estimators=150; total time=   0.8s\n",
            "[CV] END classifier__max_depth=10, classifier__min_samples_leaf=1, classifier__min_samples_split=5, classifier__n_estimators=50; total time=   0.3s\n",
            "[CV] END classifier__max_depth=10, classifier__min_samples_leaf=1, classifier__min_samples_split=5, classifier__n_estimators=50; total time=   0.3s\n",
            "[CV] END classifier__max_depth=10, classifier__min_samples_leaf=1, classifier__min_samples_split=5, classifier__n_estimators=50; total time=   0.3s\n",
            "[CV] END classifier__max_depth=10, classifier__min_samples_leaf=1, classifier__min_samples_split=5, classifier__n_estimators=100; total time=   0.7s\n",
            "[CV] END classifier__max_depth=10, classifier__min_samples_leaf=1, classifier__min_samples_split=5, classifier__n_estimators=100; total time=   0.8s\n",
            "[CV] END classifier__max_depth=10, classifier__min_samples_leaf=1, classifier__min_samples_split=5, classifier__n_estimators=100; total time=   0.8s\n",
            "[CV] END classifier__max_depth=10, classifier__min_samples_leaf=1, classifier__min_samples_split=5, classifier__n_estimators=150; total time=   1.1s\n",
            "[CV] END classifier__max_depth=10, classifier__min_samples_leaf=1, classifier__min_samples_split=5, classifier__n_estimators=150; total time=   0.9s\n",
            "[CV] END classifier__max_depth=10, classifier__min_samples_leaf=1, classifier__min_samples_split=5, classifier__n_estimators=150; total time=   0.8s\n",
            "[CV] END classifier__max_depth=10, classifier__min_samples_leaf=1, classifier__min_samples_split=10, classifier__n_estimators=50; total time=   0.3s\n",
            "[CV] END classifier__max_depth=10, classifier__min_samples_leaf=1, classifier__min_samples_split=10, classifier__n_estimators=50; total time=   0.3s\n",
            "[CV] END classifier__max_depth=10, classifier__min_samples_leaf=1, classifier__min_samples_split=10, classifier__n_estimators=50; total time=   0.3s\n",
            "[CV] END classifier__max_depth=10, classifier__min_samples_leaf=1, classifier__min_samples_split=10, classifier__n_estimators=100; total time=   0.6s\n",
            "[CV] END classifier__max_depth=10, classifier__min_samples_leaf=1, classifier__min_samples_split=10, classifier__n_estimators=100; total time=   0.6s\n",
            "[CV] END classifier__max_depth=10, classifier__min_samples_leaf=1, classifier__min_samples_split=10, classifier__n_estimators=100; total time=   0.6s\n",
            "[CV] END classifier__max_depth=10, classifier__min_samples_leaf=1, classifier__min_samples_split=10, classifier__n_estimators=150; total time=   0.8s\n",
            "[CV] END classifier__max_depth=10, classifier__min_samples_leaf=1, classifier__min_samples_split=10, classifier__n_estimators=150; total time=   0.8s\n",
            "[CV] END classifier__max_depth=10, classifier__min_samples_leaf=1, classifier__min_samples_split=10, classifier__n_estimators=150; total time=   0.8s\n",
            "[CV] END classifier__max_depth=10, classifier__min_samples_leaf=2, classifier__min_samples_split=2, classifier__n_estimators=50; total time=   0.3s\n",
            "[CV] END classifier__max_depth=10, classifier__min_samples_leaf=2, classifier__min_samples_split=2, classifier__n_estimators=50; total time=   0.3s\n",
            "[CV] END classifier__max_depth=10, classifier__min_samples_leaf=2, classifier__min_samples_split=2, classifier__n_estimators=50; total time=   0.3s\n",
            "[CV] END classifier__max_depth=10, classifier__min_samples_leaf=2, classifier__min_samples_split=2, classifier__n_estimators=100; total time=   0.6s\n",
            "[CV] END classifier__max_depth=10, classifier__min_samples_leaf=2, classifier__min_samples_split=2, classifier__n_estimators=100; total time=   0.6s\n",
            "[CV] END classifier__max_depth=10, classifier__min_samples_leaf=2, classifier__min_samples_split=2, classifier__n_estimators=100; total time=   0.6s\n",
            "[CV] END classifier__max_depth=10, classifier__min_samples_leaf=2, classifier__min_samples_split=2, classifier__n_estimators=150; total time=   1.2s\n",
            "[CV] END classifier__max_depth=10, classifier__min_samples_leaf=2, classifier__min_samples_split=2, classifier__n_estimators=150; total time=   1.2s\n",
            "[CV] END classifier__max_depth=10, classifier__min_samples_leaf=2, classifier__min_samples_split=2, classifier__n_estimators=150; total time=   1.0s\n",
            "[CV] END classifier__max_depth=10, classifier__min_samples_leaf=2, classifier__min_samples_split=5, classifier__n_estimators=50; total time=   0.3s\n",
            "[CV] END classifier__max_depth=10, classifier__min_samples_leaf=2, classifier__min_samples_split=5, classifier__n_estimators=50; total time=   0.3s\n",
            "[CV] END classifier__max_depth=10, classifier__min_samples_leaf=2, classifier__min_samples_split=5, classifier__n_estimators=50; total time=   0.3s\n",
            "[CV] END classifier__max_depth=10, classifier__min_samples_leaf=2, classifier__min_samples_split=5, classifier__n_estimators=100; total time=   0.6s\n",
            "[CV] END classifier__max_depth=10, classifier__min_samples_leaf=2, classifier__min_samples_split=5, classifier__n_estimators=100; total time=   0.6s\n",
            "[CV] END classifier__max_depth=10, classifier__min_samples_leaf=2, classifier__min_samples_split=5, classifier__n_estimators=100; total time=   0.6s\n",
            "[CV] END classifier__max_depth=10, classifier__min_samples_leaf=2, classifier__min_samples_split=5, classifier__n_estimators=150; total time=   0.9s\n",
            "[CV] END classifier__max_depth=10, classifier__min_samples_leaf=2, classifier__min_samples_split=5, classifier__n_estimators=150; total time=   0.8s\n",
            "[CV] END classifier__max_depth=10, classifier__min_samples_leaf=2, classifier__min_samples_split=5, classifier__n_estimators=150; total time=   0.8s\n",
            "[CV] END classifier__max_depth=10, classifier__min_samples_leaf=2, classifier__min_samples_split=10, classifier__n_estimators=50; total time=   0.3s\n",
            "[CV] END classifier__max_depth=10, classifier__min_samples_leaf=2, classifier__min_samples_split=10, classifier__n_estimators=50; total time=   0.3s\n",
            "[CV] END classifier__max_depth=10, classifier__min_samples_leaf=2, classifier__min_samples_split=10, classifier__n_estimators=50; total time=   0.3s\n",
            "[CV] END classifier__max_depth=10, classifier__min_samples_leaf=2, classifier__min_samples_split=10, classifier__n_estimators=100; total time=   0.6s\n",
            "[CV] END classifier__max_depth=10, classifier__min_samples_leaf=2, classifier__min_samples_split=10, classifier__n_estimators=100; total time=   0.6s\n",
            "[CV] END classifier__max_depth=10, classifier__min_samples_leaf=2, classifier__min_samples_split=10, classifier__n_estimators=100; total time=   0.6s\n",
            "[CV] END classifier__max_depth=10, classifier__min_samples_leaf=2, classifier__min_samples_split=10, classifier__n_estimators=150; total time=   0.8s\n",
            "[CV] END classifier__max_depth=10, classifier__min_samples_leaf=2, classifier__min_samples_split=10, classifier__n_estimators=150; total time=   0.8s\n",
            "[CV] END classifier__max_depth=10, classifier__min_samples_leaf=2, classifier__min_samples_split=10, classifier__n_estimators=150; total time=   1.2s\n",
            "[CV] END classifier__max_depth=10, classifier__min_samples_leaf=4, classifier__min_samples_split=2, classifier__n_estimators=50; total time=   0.4s\n",
            "[CV] END classifier__max_depth=10, classifier__min_samples_leaf=4, classifier__min_samples_split=2, classifier__n_estimators=50; total time=   0.4s\n",
            "[CV] END classifier__max_depth=10, classifier__min_samples_leaf=4, classifier__min_samples_split=2, classifier__n_estimators=50; total time=   0.4s\n",
            "[CV] END classifier__max_depth=10, classifier__min_samples_leaf=4, classifier__min_samples_split=2, classifier__n_estimators=100; total time=   0.6s\n",
            "[CV] END classifier__max_depth=10, classifier__min_samples_leaf=4, classifier__min_samples_split=2, classifier__n_estimators=100; total time=   0.5s\n",
            "[CV] END classifier__max_depth=10, classifier__min_samples_leaf=4, classifier__min_samples_split=2, classifier__n_estimators=100; total time=   0.6s\n",
            "[CV] END classifier__max_depth=10, classifier__min_samples_leaf=4, classifier__min_samples_split=2, classifier__n_estimators=150; total time=   0.8s\n",
            "[CV] END classifier__max_depth=10, classifier__min_samples_leaf=4, classifier__min_samples_split=2, classifier__n_estimators=150; total time=   0.8s\n",
            "[CV] END classifier__max_depth=10, classifier__min_samples_leaf=4, classifier__min_samples_split=2, classifier__n_estimators=150; total time=   0.8s\n",
            "[CV] END classifier__max_depth=10, classifier__min_samples_leaf=4, classifier__min_samples_split=5, classifier__n_estimators=50; total time=   0.3s\n",
            "[CV] END classifier__max_depth=10, classifier__min_samples_leaf=4, classifier__min_samples_split=5, classifier__n_estimators=50; total time=   0.3s\n",
            "[CV] END classifier__max_depth=10, classifier__min_samples_leaf=4, classifier__min_samples_split=5, classifier__n_estimators=50; total time=   0.3s\n",
            "[CV] END classifier__max_depth=10, classifier__min_samples_leaf=4, classifier__min_samples_split=5, classifier__n_estimators=100; total time=   0.6s\n",
            "[CV] END classifier__max_depth=10, classifier__min_samples_leaf=4, classifier__min_samples_split=5, classifier__n_estimators=100; total time=   0.6s\n",
            "[CV] END classifier__max_depth=10, classifier__min_samples_leaf=4, classifier__min_samples_split=5, classifier__n_estimators=100; total time=   0.6s\n",
            "[CV] END classifier__max_depth=10, classifier__min_samples_leaf=4, classifier__min_samples_split=5, classifier__n_estimators=150; total time=   0.8s\n",
            "[CV] END classifier__max_depth=10, classifier__min_samples_leaf=4, classifier__min_samples_split=5, classifier__n_estimators=150; total time=   0.8s\n",
            "[CV] END classifier__max_depth=10, classifier__min_samples_leaf=4, classifier__min_samples_split=5, classifier__n_estimators=150; total time=   0.8s\n",
            "[CV] END classifier__max_depth=10, classifier__min_samples_leaf=4, classifier__min_samples_split=10, classifier__n_estimators=50; total time=   0.3s\n",
            "[CV] END classifier__max_depth=10, classifier__min_samples_leaf=4, classifier__min_samples_split=10, classifier__n_estimators=50; total time=   0.3s\n",
            "[CV] END classifier__max_depth=10, classifier__min_samples_leaf=4, classifier__min_samples_split=10, classifier__n_estimators=50; total time=   0.3s\n",
            "[CV] END classifier__max_depth=10, classifier__min_samples_leaf=4, classifier__min_samples_split=10, classifier__n_estimators=100; total time=   0.8s\n",
            "[CV] END classifier__max_depth=10, classifier__min_samples_leaf=4, classifier__min_samples_split=10, classifier__n_estimators=100; total time=   0.8s\n",
            "[CV] END classifier__max_depth=10, classifier__min_samples_leaf=4, classifier__min_samples_split=10, classifier__n_estimators=100; total time=   0.8s\n",
            "[CV] END classifier__max_depth=10, classifier__min_samples_leaf=4, classifier__min_samples_split=10, classifier__n_estimators=150; total time=   1.0s\n",
            "[CV] END classifier__max_depth=10, classifier__min_samples_leaf=4, classifier__min_samples_split=10, classifier__n_estimators=150; total time=   0.8s\n",
            "[CV] END classifier__max_depth=10, classifier__min_samples_leaf=4, classifier__min_samples_split=10, classifier__n_estimators=150; total time=   0.8s\n",
            "[CV] END classifier__max_depth=20, classifier__min_samples_leaf=1, classifier__min_samples_split=2, classifier__n_estimators=50; total time=   0.3s\n",
            "[CV] END classifier__max_depth=20, classifier__min_samples_leaf=1, classifier__min_samples_split=2, classifier__n_estimators=50; total time=   0.3s\n",
            "[CV] END classifier__max_depth=20, classifier__min_samples_leaf=1, classifier__min_samples_split=2, classifier__n_estimators=50; total time=   0.3s\n",
            "[CV] END classifier__max_depth=20, classifier__min_samples_leaf=1, classifier__min_samples_split=2, classifier__n_estimators=100; total time=   0.7s\n",
            "[CV] END classifier__max_depth=20, classifier__min_samples_leaf=1, classifier__min_samples_split=2, classifier__n_estimators=100; total time=   0.6s\n",
            "[CV] END classifier__max_depth=20, classifier__min_samples_leaf=1, classifier__min_samples_split=2, classifier__n_estimators=100; total time=   0.6s\n",
            "[CV] END classifier__max_depth=20, classifier__min_samples_leaf=1, classifier__min_samples_split=2, classifier__n_estimators=150; total time=   0.9s\n",
            "[CV] END classifier__max_depth=20, classifier__min_samples_leaf=1, classifier__min_samples_split=2, classifier__n_estimators=150; total time=   1.5s\n",
            "[CV] END classifier__max_depth=20, classifier__min_samples_leaf=1, classifier__min_samples_split=2, classifier__n_estimators=150; total time=   1.0s\n",
            "[CV] END classifier__max_depth=20, classifier__min_samples_leaf=1, classifier__min_samples_split=5, classifier__n_estimators=50; total time=   0.3s\n",
            "[CV] END classifier__max_depth=20, classifier__min_samples_leaf=1, classifier__min_samples_split=5, classifier__n_estimators=50; total time=   0.3s\n",
            "[CV] END classifier__max_depth=20, classifier__min_samples_leaf=1, classifier__min_samples_split=5, classifier__n_estimators=50; total time=   0.3s\n",
            "[CV] END classifier__max_depth=20, classifier__min_samples_leaf=1, classifier__min_samples_split=5, classifier__n_estimators=100; total time=   1.6s\n",
            "[CV] END classifier__max_depth=20, classifier__min_samples_leaf=1, classifier__min_samples_split=5, classifier__n_estimators=100; total time=   1.6s\n",
            "[CV] END classifier__max_depth=20, classifier__min_samples_leaf=1, classifier__min_samples_split=5, classifier__n_estimators=100; total time=   1.2s\n",
            "[CV] END classifier__max_depth=20, classifier__min_samples_leaf=1, classifier__min_samples_split=5, classifier__n_estimators=150; total time=   1.6s\n",
            "[CV] END classifier__max_depth=20, classifier__min_samples_leaf=1, classifier__min_samples_split=5, classifier__n_estimators=150; total time=   1.1s\n",
            "[CV] END classifier__max_depth=20, classifier__min_samples_leaf=1, classifier__min_samples_split=5, classifier__n_estimators=150; total time=   1.1s\n",
            "[CV] END classifier__max_depth=20, classifier__min_samples_leaf=1, classifier__min_samples_split=10, classifier__n_estimators=50; total time=   0.4s\n",
            "[CV] END classifier__max_depth=20, classifier__min_samples_leaf=1, classifier__min_samples_split=10, classifier__n_estimators=50; total time=   0.4s\n",
            "[CV] END classifier__max_depth=20, classifier__min_samples_leaf=1, classifier__min_samples_split=10, classifier__n_estimators=50; total time=   0.4s\n",
            "[CV] END classifier__max_depth=20, classifier__min_samples_leaf=1, classifier__min_samples_split=10, classifier__n_estimators=100; total time=   0.8s\n",
            "[CV] END classifier__max_depth=20, classifier__min_samples_leaf=1, classifier__min_samples_split=10, classifier__n_estimators=100; total time=   0.7s\n",
            "[CV] END classifier__max_depth=20, classifier__min_samples_leaf=1, classifier__min_samples_split=10, classifier__n_estimators=100; total time=   0.9s\n",
            "[CV] END classifier__max_depth=20, classifier__min_samples_leaf=1, classifier__min_samples_split=10, classifier__n_estimators=150; total time=   1.2s\n",
            "[CV] END classifier__max_depth=20, classifier__min_samples_leaf=1, classifier__min_samples_split=10, classifier__n_estimators=150; total time=   0.9s\n",
            "[CV] END classifier__max_depth=20, classifier__min_samples_leaf=1, classifier__min_samples_split=10, classifier__n_estimators=150; total time=   1.1s\n",
            "[CV] END classifier__max_depth=20, classifier__min_samples_leaf=2, classifier__min_samples_split=2, classifier__n_estimators=50; total time=   0.5s\n",
            "[CV] END classifier__max_depth=20, classifier__min_samples_leaf=2, classifier__min_samples_split=2, classifier__n_estimators=50; total time=   0.5s\n",
            "[CV] END classifier__max_depth=20, classifier__min_samples_leaf=2, classifier__min_samples_split=2, classifier__n_estimators=50; total time=   0.5s\n",
            "[CV] END classifier__max_depth=20, classifier__min_samples_leaf=2, classifier__min_samples_split=2, classifier__n_estimators=100; total time=   0.9s\n",
            "[CV] END classifier__max_depth=20, classifier__min_samples_leaf=2, classifier__min_samples_split=2, classifier__n_estimators=100; total time=   0.6s\n",
            "[CV] END classifier__max_depth=20, classifier__min_samples_leaf=2, classifier__min_samples_split=2, classifier__n_estimators=100; total time=   0.6s\n",
            "[CV] END classifier__max_depth=20, classifier__min_samples_leaf=2, classifier__min_samples_split=2, classifier__n_estimators=150; total time=   0.9s\n",
            "[CV] END classifier__max_depth=20, classifier__min_samples_leaf=2, classifier__min_samples_split=2, classifier__n_estimators=150; total time=   0.9s\n",
            "[CV] END classifier__max_depth=20, classifier__min_samples_leaf=2, classifier__min_samples_split=2, classifier__n_estimators=150; total time=   0.9s\n",
            "[CV] END classifier__max_depth=20, classifier__min_samples_leaf=2, classifier__min_samples_split=5, classifier__n_estimators=50; total time=   0.3s\n",
            "[CV] END classifier__max_depth=20, classifier__min_samples_leaf=2, classifier__min_samples_split=5, classifier__n_estimators=50; total time=   0.3s\n",
            "[CV] END classifier__max_depth=20, classifier__min_samples_leaf=2, classifier__min_samples_split=5, classifier__n_estimators=50; total time=   0.3s\n",
            "[CV] END classifier__max_depth=20, classifier__min_samples_leaf=2, classifier__min_samples_split=5, classifier__n_estimators=100; total time=   0.6s\n",
            "[CV] END classifier__max_depth=20, classifier__min_samples_leaf=2, classifier__min_samples_split=5, classifier__n_estimators=100; total time=   0.6s\n",
            "[CV] END classifier__max_depth=20, classifier__min_samples_leaf=2, classifier__min_samples_split=5, classifier__n_estimators=100; total time=   0.6s\n",
            "[CV] END classifier__max_depth=20, classifier__min_samples_leaf=2, classifier__min_samples_split=5, classifier__n_estimators=150; total time=   0.9s\n",
            "[CV] END classifier__max_depth=20, classifier__min_samples_leaf=2, classifier__min_samples_split=5, classifier__n_estimators=150; total time=   0.9s\n",
            "[CV] END classifier__max_depth=20, classifier__min_samples_leaf=2, classifier__min_samples_split=5, classifier__n_estimators=150; total time=   1.0s\n",
            "[CV] END classifier__max_depth=20, classifier__min_samples_leaf=2, classifier__min_samples_split=10, classifier__n_estimators=50; total time=   0.3s\n",
            "[CV] END classifier__max_depth=20, classifier__min_samples_leaf=2, classifier__min_samples_split=10, classifier__n_estimators=50; total time=   0.5s\n",
            "[CV] END classifier__max_depth=20, classifier__min_samples_leaf=2, classifier__min_samples_split=10, classifier__n_estimators=50; total time=   0.5s\n",
            "[CV] END classifier__max_depth=20, classifier__min_samples_leaf=2, classifier__min_samples_split=10, classifier__n_estimators=100; total time=   0.9s\n",
            "[CV] END classifier__max_depth=20, classifier__min_samples_leaf=2, classifier__min_samples_split=10, classifier__n_estimators=100; total time=   0.9s\n",
            "[CV] END classifier__max_depth=20, classifier__min_samples_leaf=2, classifier__min_samples_split=10, classifier__n_estimators=100; total time=   0.6s\n",
            "[CV] END classifier__max_depth=20, classifier__min_samples_leaf=2, classifier__min_samples_split=10, classifier__n_estimators=150; total time=   0.9s\n",
            "[CV] END classifier__max_depth=20, classifier__min_samples_leaf=2, classifier__min_samples_split=10, classifier__n_estimators=150; total time=   0.9s\n",
            "[CV] END classifier__max_depth=20, classifier__min_samples_leaf=2, classifier__min_samples_split=10, classifier__n_estimators=150; total time=   0.9s\n",
            "[CV] END classifier__max_depth=20, classifier__min_samples_leaf=4, classifier__min_samples_split=2, classifier__n_estimators=50; total time=   0.3s\n",
            "[CV] END classifier__max_depth=20, classifier__min_samples_leaf=4, classifier__min_samples_split=2, classifier__n_estimators=50; total time=   0.3s\n",
            "[CV] END classifier__max_depth=20, classifier__min_samples_leaf=4, classifier__min_samples_split=2, classifier__n_estimators=50; total time=   0.3s\n",
            "[CV] END classifier__max_depth=20, classifier__min_samples_leaf=4, classifier__min_samples_split=2, classifier__n_estimators=100; total time=   0.6s\n",
            "[CV] END classifier__max_depth=20, classifier__min_samples_leaf=4, classifier__min_samples_split=2, classifier__n_estimators=100; total time=   0.6s\n",
            "[CV] END classifier__max_depth=20, classifier__min_samples_leaf=4, classifier__min_samples_split=2, classifier__n_estimators=100; total time=   0.6s\n",
            "[CV] END classifier__max_depth=20, classifier__min_samples_leaf=4, classifier__min_samples_split=2, classifier__n_estimators=150; total time=   0.9s\n",
            "[CV] END classifier__max_depth=20, classifier__min_samples_leaf=4, classifier__min_samples_split=2, classifier__n_estimators=150; total time=   0.8s\n",
            "[CV] END classifier__max_depth=20, classifier__min_samples_leaf=4, classifier__min_samples_split=2, classifier__n_estimators=150; total time=   0.8s\n",
            "[CV] END classifier__max_depth=20, classifier__min_samples_leaf=4, classifier__min_samples_split=5, classifier__n_estimators=50; total time=   0.3s\n",
            "[CV] END classifier__max_depth=20, classifier__min_samples_leaf=4, classifier__min_samples_split=5, classifier__n_estimators=50; total time=   0.4s\n",
            "[CV] END classifier__max_depth=20, classifier__min_samples_leaf=4, classifier__min_samples_split=5, classifier__n_estimators=50; total time=   0.3s\n",
            "[CV] END classifier__max_depth=20, classifier__min_samples_leaf=4, classifier__min_samples_split=5, classifier__n_estimators=100; total time=   0.7s\n",
            "[CV] END classifier__max_depth=20, classifier__min_samples_leaf=4, classifier__min_samples_split=5, classifier__n_estimators=100; total time=   0.9s\n",
            "[CV] END classifier__max_depth=20, classifier__min_samples_leaf=4, classifier__min_samples_split=5, classifier__n_estimators=100; total time=   0.8s\n",
            "[CV] END classifier__max_depth=20, classifier__min_samples_leaf=4, classifier__min_samples_split=5, classifier__n_estimators=150; total time=   1.1s\n",
            "[CV] END classifier__max_depth=20, classifier__min_samples_leaf=4, classifier__min_samples_split=5, classifier__n_estimators=150; total time=   0.8s\n",
            "[CV] END classifier__max_depth=20, classifier__min_samples_leaf=4, classifier__min_samples_split=5, classifier__n_estimators=150; total time=   0.9s\n",
            "[CV] END classifier__max_depth=20, classifier__min_samples_leaf=4, classifier__min_samples_split=10, classifier__n_estimators=50; total time=   0.3s\n",
            "[CV] END classifier__max_depth=20, classifier__min_samples_leaf=4, classifier__min_samples_split=10, classifier__n_estimators=50; total time=   0.3s\n",
            "[CV] END classifier__max_depth=20, classifier__min_samples_leaf=4, classifier__min_samples_split=10, classifier__n_estimators=50; total time=   0.3s\n",
            "[CV] END classifier__max_depth=20, classifier__min_samples_leaf=4, classifier__min_samples_split=10, classifier__n_estimators=100; total time=   0.6s\n",
            "[CV] END classifier__max_depth=20, classifier__min_samples_leaf=4, classifier__min_samples_split=10, classifier__n_estimators=100; total time=   0.6s\n",
            "[CV] END classifier__max_depth=20, classifier__min_samples_leaf=4, classifier__min_samples_split=10, classifier__n_estimators=100; total time=   0.6s\n",
            "[CV] END classifier__max_depth=20, classifier__min_samples_leaf=4, classifier__min_samples_split=10, classifier__n_estimators=150; total time=   0.9s\n",
            "[CV] END classifier__max_depth=20, classifier__min_samples_leaf=4, classifier__min_samples_split=10, classifier__n_estimators=150; total time=   0.8s\n",
            "[CV] END classifier__max_depth=20, classifier__min_samples_leaf=4, classifier__min_samples_split=10, classifier__n_estimators=150; total time=   0.8s\n",
            "[CV] END classifier__max_depth=30, classifier__min_samples_leaf=1, classifier__min_samples_split=2, classifier__n_estimators=50; total time=   0.4s\n",
            "[CV] END classifier__max_depth=30, classifier__min_samples_leaf=1, classifier__min_samples_split=2, classifier__n_estimators=50; total time=   0.3s\n",
            "[CV] END classifier__max_depth=30, classifier__min_samples_leaf=1, classifier__min_samples_split=2, classifier__n_estimators=50; total time=   0.3s\n",
            "[CV] END classifier__max_depth=30, classifier__min_samples_leaf=1, classifier__min_samples_split=2, classifier__n_estimators=100; total time=   0.6s\n",
            "[CV] END classifier__max_depth=30, classifier__min_samples_leaf=1, classifier__min_samples_split=2, classifier__n_estimators=100; total time=   0.6s\n",
            "[CV] END classifier__max_depth=30, classifier__min_samples_leaf=1, classifier__min_samples_split=2, classifier__n_estimators=100; total time=   0.7s\n",
            "[CV] END classifier__max_depth=30, classifier__min_samples_leaf=1, classifier__min_samples_split=2, classifier__n_estimators=150; total time=   1.3s\n",
            "[CV] END classifier__max_depth=30, classifier__min_samples_leaf=1, classifier__min_samples_split=2, classifier__n_estimators=150; total time=   1.3s\n",
            "[CV] END classifier__max_depth=30, classifier__min_samples_leaf=1, classifier__min_samples_split=2, classifier__n_estimators=150; total time=   0.9s\n",
            "[CV] END classifier__max_depth=30, classifier__min_samples_leaf=1, classifier__min_samples_split=5, classifier__n_estimators=50; total time=   0.4s\n",
            "[CV] END classifier__max_depth=30, classifier__min_samples_leaf=1, classifier__min_samples_split=5, classifier__n_estimators=50; total time=   0.3s\n",
            "[CV] END classifier__max_depth=30, classifier__min_samples_leaf=1, classifier__min_samples_split=5, classifier__n_estimators=50; total time=   0.3s\n",
            "[CV] END classifier__max_depth=30, classifier__min_samples_leaf=1, classifier__min_samples_split=5, classifier__n_estimators=100; total time=   0.6s\n",
            "[CV] END classifier__max_depth=30, classifier__min_samples_leaf=1, classifier__min_samples_split=5, classifier__n_estimators=100; total time=   0.6s\n",
            "[CV] END classifier__max_depth=30, classifier__min_samples_leaf=1, classifier__min_samples_split=5, classifier__n_estimators=100; total time=   0.6s\n",
            "[CV] END classifier__max_depth=30, classifier__min_samples_leaf=1, classifier__min_samples_split=5, classifier__n_estimators=150; total time=   0.9s\n",
            "[CV] END classifier__max_depth=30, classifier__min_samples_leaf=1, classifier__min_samples_split=5, classifier__n_estimators=150; total time=   0.9s\n",
            "[CV] END classifier__max_depth=30, classifier__min_samples_leaf=1, classifier__min_samples_split=5, classifier__n_estimators=150; total time=   0.9s\n",
            "[CV] END classifier__max_depth=30, classifier__min_samples_leaf=1, classifier__min_samples_split=10, classifier__n_estimators=50; total time=   0.3s\n",
            "[CV] END classifier__max_depth=30, classifier__min_samples_leaf=1, classifier__min_samples_split=10, classifier__n_estimators=50; total time=   0.4s\n",
            "[CV] END classifier__max_depth=30, classifier__min_samples_leaf=1, classifier__min_samples_split=10, classifier__n_estimators=50; total time=   0.3s\n",
            "[CV] END classifier__max_depth=30, classifier__min_samples_leaf=1, classifier__min_samples_split=10, classifier__n_estimators=100; total time=   0.6s\n",
            "[CV] END classifier__max_depth=30, classifier__min_samples_leaf=1, classifier__min_samples_split=10, classifier__n_estimators=100; total time=   0.6s\n",
            "[CV] END classifier__max_depth=30, classifier__min_samples_leaf=1, classifier__min_samples_split=10, classifier__n_estimators=100; total time=   0.6s\n",
            "[CV] END classifier__max_depth=30, classifier__min_samples_leaf=1, classifier__min_samples_split=10, classifier__n_estimators=150; total time=   1.2s\n",
            "[CV] END classifier__max_depth=30, classifier__min_samples_leaf=1, classifier__min_samples_split=10, classifier__n_estimators=150; total time=   1.3s\n",
            "[CV] END classifier__max_depth=30, classifier__min_samples_leaf=1, classifier__min_samples_split=10, classifier__n_estimators=150; total time=   1.1s\n",
            "[CV] END classifier__max_depth=30, classifier__min_samples_leaf=2, classifier__min_samples_split=2, classifier__n_estimators=50; total time=   0.3s\n",
            "[CV] END classifier__max_depth=30, classifier__min_samples_leaf=2, classifier__min_samples_split=2, classifier__n_estimators=50; total time=   0.3s\n",
            "[CV] END classifier__max_depth=30, classifier__min_samples_leaf=2, classifier__min_samples_split=2, classifier__n_estimators=50; total time=   0.3s\n",
            "[CV] END classifier__max_depth=30, classifier__min_samples_leaf=2, classifier__min_samples_split=2, classifier__n_estimators=100; total time=   0.6s\n",
            "[CV] END classifier__max_depth=30, classifier__min_samples_leaf=2, classifier__min_samples_split=2, classifier__n_estimators=100; total time=   0.6s\n",
            "[CV] END classifier__max_depth=30, classifier__min_samples_leaf=2, classifier__min_samples_split=2, classifier__n_estimators=100; total time=   0.6s\n",
            "[CV] END classifier__max_depth=30, classifier__min_samples_leaf=2, classifier__min_samples_split=2, classifier__n_estimators=150; total time=   0.9s\n",
            "[CV] END classifier__max_depth=30, classifier__min_samples_leaf=2, classifier__min_samples_split=2, classifier__n_estimators=150; total time=   0.9s\n",
            "[CV] END classifier__max_depth=30, classifier__min_samples_leaf=2, classifier__min_samples_split=2, classifier__n_estimators=150; total time=   0.9s\n",
            "[CV] END classifier__max_depth=30, classifier__min_samples_leaf=2, classifier__min_samples_split=5, classifier__n_estimators=50; total time=   0.3s\n",
            "[CV] END classifier__max_depth=30, classifier__min_samples_leaf=2, classifier__min_samples_split=5, classifier__n_estimators=50; total time=   0.3s\n",
            "[CV] END classifier__max_depth=30, classifier__min_samples_leaf=2, classifier__min_samples_split=5, classifier__n_estimators=50; total time=   0.3s\n",
            "[CV] END classifier__max_depth=30, classifier__min_samples_leaf=2, classifier__min_samples_split=5, classifier__n_estimators=100; total time=   0.6s\n",
            "[CV] END classifier__max_depth=30, classifier__min_samples_leaf=2, classifier__min_samples_split=5, classifier__n_estimators=100; total time=   0.6s\n",
            "[CV] END classifier__max_depth=30, classifier__min_samples_leaf=2, classifier__min_samples_split=5, classifier__n_estimators=100; total time=   0.6s\n",
            "[CV] END classifier__max_depth=30, classifier__min_samples_leaf=2, classifier__min_samples_split=5, classifier__n_estimators=150; total time=   0.9s\n",
            "[CV] END classifier__max_depth=30, classifier__min_samples_leaf=2, classifier__min_samples_split=5, classifier__n_estimators=150; total time=   1.2s\n",
            "[CV] END classifier__max_depth=30, classifier__min_samples_leaf=2, classifier__min_samples_split=5, classifier__n_estimators=150; total time=   1.3s\n",
            "[CV] END classifier__max_depth=30, classifier__min_samples_leaf=2, classifier__min_samples_split=10, classifier__n_estimators=50; total time=   0.5s\n",
            "[CV] END classifier__max_depth=30, classifier__min_samples_leaf=2, classifier__min_samples_split=10, classifier__n_estimators=50; total time=   0.3s\n",
            "[CV] END classifier__max_depth=30, classifier__min_samples_leaf=2, classifier__min_samples_split=10, classifier__n_estimators=50; total time=   0.3s\n",
            "[CV] END classifier__max_depth=30, classifier__min_samples_leaf=2, classifier__min_samples_split=10, classifier__n_estimators=100; total time=   0.6s\n",
            "[CV] END classifier__max_depth=30, classifier__min_samples_leaf=2, classifier__min_samples_split=10, classifier__n_estimators=100; total time=   0.6s\n",
            "[CV] END classifier__max_depth=30, classifier__min_samples_leaf=2, classifier__min_samples_split=10, classifier__n_estimators=100; total time=   0.6s\n",
            "[CV] END classifier__max_depth=30, classifier__min_samples_leaf=2, classifier__min_samples_split=10, classifier__n_estimators=150; total time=   0.9s\n",
            "[CV] END classifier__max_depth=30, classifier__min_samples_leaf=2, classifier__min_samples_split=10, classifier__n_estimators=150; total time=   0.9s\n",
            "[CV] END classifier__max_depth=30, classifier__min_samples_leaf=2, classifier__min_samples_split=10, classifier__n_estimators=150; total time=   0.9s\n",
            "[CV] END classifier__max_depth=30, classifier__min_samples_leaf=4, classifier__min_samples_split=2, classifier__n_estimators=50; total time=   0.3s\n",
            "[CV] END classifier__max_depth=30, classifier__min_samples_leaf=4, classifier__min_samples_split=2, classifier__n_estimators=50; total time=   0.3s\n",
            "[CV] END classifier__max_depth=30, classifier__min_samples_leaf=4, classifier__min_samples_split=2, classifier__n_estimators=50; total time=   0.3s\n",
            "[CV] END classifier__max_depth=30, classifier__min_samples_leaf=4, classifier__min_samples_split=2, classifier__n_estimators=100; total time=   0.6s\n",
            "[CV] END classifier__max_depth=30, classifier__min_samples_leaf=4, classifier__min_samples_split=2, classifier__n_estimators=100; total time=   0.6s\n",
            "[CV] END classifier__max_depth=30, classifier__min_samples_leaf=4, classifier__min_samples_split=2, classifier__n_estimators=100; total time=   0.6s\n",
            "[CV] END classifier__max_depth=30, classifier__min_samples_leaf=4, classifier__min_samples_split=2, classifier__n_estimators=150; total time=   0.9s\n",
            "[CV] END classifier__max_depth=30, classifier__min_samples_leaf=4, classifier__min_samples_split=2, classifier__n_estimators=150; total time=   0.9s\n",
            "[CV] END classifier__max_depth=30, classifier__min_samples_leaf=4, classifier__min_samples_split=2, classifier__n_estimators=150; total time=   1.0s\n",
            "[CV] END classifier__max_depth=30, classifier__min_samples_leaf=4, classifier__min_samples_split=5, classifier__n_estimators=50; total time=   0.4s\n",
            "[CV] END classifier__max_depth=30, classifier__min_samples_leaf=4, classifier__min_samples_split=5, classifier__n_estimators=50; total time=   0.5s\n",
            "[CV] END classifier__max_depth=30, classifier__min_samples_leaf=4, classifier__min_samples_split=5, classifier__n_estimators=50; total time=   0.4s\n",
            "[CV] END classifier__max_depth=30, classifier__min_samples_leaf=4, classifier__min_samples_split=5, classifier__n_estimators=100; total time=   0.9s\n",
            "[CV] END classifier__max_depth=30, classifier__min_samples_leaf=4, classifier__min_samples_split=5, classifier__n_estimators=100; total time=   0.6s\n",
            "[CV] END classifier__max_depth=30, classifier__min_samples_leaf=4, classifier__min_samples_split=5, classifier__n_estimators=100; total time=   0.6s\n",
            "[CV] END classifier__max_depth=30, classifier__min_samples_leaf=4, classifier__min_samples_split=5, classifier__n_estimators=150; total time=   0.9s\n",
            "[CV] END classifier__max_depth=30, classifier__min_samples_leaf=4, classifier__min_samples_split=5, classifier__n_estimators=150; total time=   0.9s\n",
            "[CV] END classifier__max_depth=30, classifier__min_samples_leaf=4, classifier__min_samples_split=5, classifier__n_estimators=150; total time=   0.8s\n",
            "[CV] END classifier__max_depth=30, classifier__min_samples_leaf=4, classifier__min_samples_split=10, classifier__n_estimators=50; total time=   0.3s\n",
            "[CV] END classifier__max_depth=30, classifier__min_samples_leaf=4, classifier__min_samples_split=10, classifier__n_estimators=50; total time=   0.3s\n",
            "[CV] END classifier__max_depth=30, classifier__min_samples_leaf=4, classifier__min_samples_split=10, classifier__n_estimators=50; total time=   0.3s\n",
            "[CV] END classifier__max_depth=30, classifier__min_samples_leaf=4, classifier__min_samples_split=10, classifier__n_estimators=100; total time=   0.6s\n",
            "[CV] END classifier__max_depth=30, classifier__min_samples_leaf=4, classifier__min_samples_split=10, classifier__n_estimators=100; total time=   0.6s\n",
            "[CV] END classifier__max_depth=30, classifier__min_samples_leaf=4, classifier__min_samples_split=10, classifier__n_estimators=100; total time=   0.6s\n",
            "[CV] END classifier__max_depth=30, classifier__min_samples_leaf=4, classifier__min_samples_split=10, classifier__n_estimators=150; total time=   0.9s\n",
            "[CV] END classifier__max_depth=30, classifier__min_samples_leaf=4, classifier__min_samples_split=10, classifier__n_estimators=150; total time=   0.9s\n",
            "[CV] END classifier__max_depth=30, classifier__min_samples_leaf=4, classifier__min_samples_split=10, classifier__n_estimators=150; total time=   0.9s\n",
            "Best Parameters for Random Forest: {'classifier__max_depth': None, 'classifier__min_samples_leaf': 4, 'classifier__min_samples_split': 10, 'classifier__n_estimators': 150}\n"
          ]
        }
      ]
    },
    {
      "cell_type": "markdown",
      "source": [
        "## 7. Evaluation\n"
      ],
      "metadata": {
        "id": "N8yTWQC-CiU-"
      }
    },
    {
      "cell_type": "code",
      "source": [
        "# Predict using the best Random Forest model\n",
        "y_pred_rf = best_rf_pipeline.predict(X_test)\n",
        "y_proba_rf = best_rf_pipeline.predict_proba(X_test)[:, 1]\n",
        "\n",
        "# Metrics\n",
        "print(\"Classification Report:\\n\", classification_report(y_test, y_pred_rf))\n",
        "print(\"ROC-AUC Score:\", roc_auc_score(y_test, y_proba_rf))\n",
        "print(\"RMSE:\", np.sqrt(mean_squared_error(y_test, y_pred_rf)))"
      ],
      "metadata": {
        "colab": {
          "base_uri": "https://localhost:8080/"
        },
        "id": "KqRbl1jeCgU8",
        "outputId": "2fd10b9d-3532-4d64-ad96-2fcb6ba2c2f9"
      },
      "execution_count": null,
      "outputs": [
        {
          "output_type": "stream",
          "name": "stdout",
          "text": [
            "Classification Report:\n",
            "               precision    recall  f1-score   support\n",
            "\n",
            "           0       0.97      0.93      0.95       734\n",
            "           1       0.57      0.73      0.64        90\n",
            "\n",
            "    accuracy                           0.91       824\n",
            "   macro avg       0.77      0.83      0.79       824\n",
            "weighted avg       0.92      0.91      0.92       824\n",
            "\n",
            "ROC-AUC Score: 0.9432788374205268\n",
            "RMSE: 0.2996762006611777\n"
          ]
        }
      ]
    },
    {
      "cell_type": "code",
      "source": [
        "# Confusion Matrix\n",
        "conf_matrix_rf = confusion_matrix(y_test, y_pred_rf)\n",
        "sns.heatmap(conf_matrix_rf, annot=True, fmt='d', cmap='Blues')\n",
        "plt.title(\"Confusion Matrix - Random Forest\")\n",
        "plt.xlabel(\"Predicted\")\n",
        "plt.ylabel(\"Actual\")\n",
        "plt.show()"
      ],
      "metadata": {
        "colab": {
          "base_uri": "https://localhost:8080/",
          "height": 472
        },
        "id": "n44fbU7ODAbG",
        "outputId": "053cc44d-33d3-4d71-bdea-16a77af60bb6"
      },
      "execution_count": null,
      "outputs": [
        {
          "output_type": "display_data",
          "data": {
            "text/plain": [
              "<Figure size 640x480 with 2 Axes>"
            ],
            "image/png": "[encoded data removed]"
          },
          "metadata": {}
        }
      ]
    },
    {
      "cell_type": "code",
      "source": [
        "# ROC Curve\n",
        "from sklearn.metrics import roc_curve\n",
        "fpr_rf, tpr_rf, thresholds_rf = roc_curve(y_test, y_proba_rf)\n",
        "plt.plot(fpr_rf, tpr_rf, label=f\"ROC Curve (AUC = {roc_auc_score(y_test, y_proba_rf):.2f})\")\n",
        "plt.plot([0, 1], [0, 1], 'k--', label=\"Random Guess\")\n",
        "plt.xlabel(\"False Positive Rate\")\n",
        "plt.ylabel(\"True Positive Rate\")\n",
        "plt.title(\"ROC Curve - Random Forest\")\n",
        "plt.legend()\n",
        "plt.show()"
      ],
      "metadata": {
        "colab": {
          "base_uri": "https://localhost:8080/",
          "height": 472
        },
        "id": "aaRERRQWDDo6",
        "outputId": "50b626e4-2c7b-42ce-9596-451a9fb974ef"
      },
      "execution_count": null,
      "outputs": [
        {
          "output_type": "display_data",
          "data": {
            "text/plain": [
              "<Figure size 640x480 with 1 Axes>"
            ],
            "image/png": "[encoded data removed]"
          },
          "metadata": {}
        }
      ]
    },
    {
      "cell_type": "code",
      "source": [
        "# Finalize the pipeline with the best Random Forest model\n",
        "final_pipeline = Pipeline(steps=[\n",
        "    ('preprocessor', preprocessor),\n",
        "    ('feature_selector', SelectKBest(score_func=f_classif, k=15)),\n",
        "    ('classifier', best_rf_pipeline.named_steps['classifier'])\n",
        "])\n",
        "\n",
        "# Fit the finalized pipeline on the entire training data\n",
        "final_pipeline.fit(X_train, y_train)\n",
        "\n",
        "# Test the pipeline on unseen data\n",
        "final_predictions = final_pipeline.predict(X_test)\n",
        "final_probabilities = final_pipeline.predict_proba(X_test)[:, 1]\n",
        "\n",
        "print(\"Final Model Performance\")\n",
        "print(\"Classification Report:\\n\", classification_report(y_test, final_predictions))\n",
        "print(\"ROC-AUC Score:\", roc_auc_score(y_test, final_probabilities))"
      ],
      "metadata": {
        "colab": {
          "base_uri": "https://localhost:8080/"
        },
        "id": "OsHAAuFJDNlY",
        "outputId": "e7c85681-7fb6-4c72-e475-59748fd6af50"
      },
      "execution_count": null,
      "outputs": [
        {
          "output_type": "stream",
          "name": "stdout",
          "text": [
            "Final Model Performance\n",
            "Classification Report:\n",
            "               precision    recall  f1-score   support\n",
            "\n",
            "           0       0.93      0.98      0.95       734\n",
            "           1       0.70      0.41      0.52        90\n",
            "\n",
            "    accuracy                           0.92       824\n",
            "   macro avg       0.81      0.69      0.74       824\n",
            "weighted avg       0.91      0.92      0.91       824\n",
            "\n",
            "ROC-AUC Score: 0.9421359370269452\n"
          ]
        }
      ]
    },
    {
      "cell_type": "code",
      "source": [
        "preprocessor = final_pipeline.named_steps['preprocessor']\n",
        "feature_selector = final_pipeline.named_steps['feature_selector']\n",
        "classifier = final_pipeline.named_steps['classifier']\n",
        "\n",
        "# feature names after preprocessing (OneHotEncoder and StandardScaler)\n",
        "feature_names_all = preprocessor.get_feature_names_out()\n",
        "\n",
        "# Selected features from SelectKBest\n",
        "selected_feature_indices = feature_selector.get_support(indices=True)\n",
        "\n",
        "\n",
        "selected_feature_names = feature_names_all[selected_feature_indices]\n",
        "\n",
        "# feature importances from the RF\n",
        "feature_importance = classifier.feature_importances_\n",
        "\n",
        "# Create df for feature importances\n",
        "importance_df = pd.DataFrame({\n",
        "    'Feature': selected_feature_names,\n",
        "    'Importance': feature_importance\n",
        "}).sort_values(by='Importance', ascending=False)\n",
        "\n",
        "\n",
        "print(\"Feature Importance:\\n\", importance_df)\n",
        "\n",
        "plt.figure(figsize=(10, 6))\n",
        "sns.barplot(data=importance_df, x='Importance', y='Feature', palette='viridis')\n",
        "plt.title('Top Feature Importances (Random Forest)')\n",
        "plt.tight_layout()\n",
        "plt.show()\n",
        "\n"
      ],
      "metadata": {
        "colab": {
          "base_uri": "https://localhost:8080/",
          "height": 921
        },
        "id": "ehUC8wlbDkul",
        "outputId": "f0c109a5-e605-4b68-a664-3bad8da4b0bb"
      },
      "execution_count": null,
      "outputs": [
        {
          "output_type": "stream",
          "name": "stdout",
          "text": [
            "Feature Importance:\n",
            "                       Feature  Importance\n",
            "0               num__duration    0.449902\n",
            "4              num__euribor3m    0.184862\n",
            "5            num__nr.employed    0.129979\n",
            "1                  num__pdays    0.061024\n",
            "3           num__emp.var.rate    0.050216\n",
            "14      cat__poutcome_success    0.040454\n",
            "2               num__previous    0.024339\n",
            "9              cat__month_mar    0.011397\n",
            "13  cat__poutcome_nonexistent    0.010456\n",
            "6       cat__contact_cellular    0.009231\n",
            "10             cat__month_may    0.008942\n",
            "7      cat__contact_telephone    0.008141\n",
            "12             cat__month_sep    0.004887\n",
            "11             cat__month_oct    0.004239\n",
            "8              cat__month_dec    0.001932\n"
          ]
        },
        {
          "output_type": "display_data",
          "data": {
            "text/plain": [
              "<Figure size 1000x600 with 1 Axes>"
            ],
            "image/png": "[encoded data removed]"
          },
          "metadata": {}
        }
      ]
    },
    {
      "cell_type": "code",
      "source": [
        "from sklearn.pipeline import Pipeline\n",
        "from sklearn.feature_selection import SelectKBest, f_classif\n",
        "import pickle\n",
        "\n",
        "\n",
        "deployment_pipeline = Pipeline(steps=[\n",
        "    ('preprocessor', preprocessor),\n",
        "    ('feature_selector', SelectKBest(score_func=f_classif, k=15)),\n",
        "    ('classifier', best_rf_pipeline.named_steps['classifier'])\n",
        "])\n",
        "\n",
        "\n",
        "deployment_pipeline.fit(X_train, y_train)\n",
        "\n",
        "# Saving for deployment\n",
        "with open('bank_marketing_pipeline.sav', 'wb') as f:\n",
        "    pickle.dump(deployment_pipeline, f)"
      ],
      "metadata": {
        "id": "MOBbgmUPFOfP",
        "colab": {
          "base_uri": "https://localhost:8080/",
          "height": 222
        },
        "outputId": "1c90ec93-07b8-49d3-85d3-3e5a6549fc11"
      },
      "execution_count": 1,
      "outputs": [
        {
          "output_type": "error",
          "ename": "NameError",
          "evalue": "name 'preprocessor' is not defined",
          "traceback": [
            "\u001b[0;31m---------------------------------------------------------------------------\u001b[0m",
            "\u001b[0;31mNameError\u001b[0m                                 Traceback (most recent call last)",
            "\u001b[0;32m<ipython-input-1-5e99504739ac>\u001b[0m in \u001b[0;36m<cell line: 0>\u001b[0;34m()\u001b[0m\n\u001b[1;32m      5\u001b[0m \u001b[0;34m\u001b[0m\u001b[0m\n\u001b[1;32m      6\u001b[0m deployment_pipeline = Pipeline(steps=[\n\u001b[0;32m----> 7\u001b[0;31m     \u001b[0;34m(\u001b[0m\u001b[0;34m'preprocessor'\u001b[0m\u001b[0;34m,\u001b[0m \u001b[0mpreprocessor\u001b[0m\u001b[0;34m)\u001b[0m\u001b[0;34m,\u001b[0m\u001b[0;34m\u001b[0m\u001b[0;34m\u001b[0m\u001b[0m\n\u001b[0m\u001b[1;32m      8\u001b[0m     \u001b[0;34m(\u001b[0m\u001b[0;34m'feature_selector'\u001b[0m\u001b[0;34m,\u001b[0m \u001b[0mSelectKBest\u001b[0m\u001b[0;34m(\u001b[0m\u001b[0mscore_func\u001b[0m\u001b[0;34m=\u001b[0m\u001b[0mf_classif\u001b[0m\u001b[0;34m,\u001b[0m \u001b[0mk\u001b[0m\u001b[0;34m=\u001b[0m\u001b[0;36m15\u001b[0m\u001b[0;34m)\u001b[0m\u001b[0;34m)\u001b[0m\u001b[0;34m,\u001b[0m\u001b[0;34m\u001b[0m\u001b[0;34m\u001b[0m\u001b[0m\n\u001b[1;32m      9\u001b[0m     \u001b[0;34m(\u001b[0m\u001b[0;34m'classifier'\u001b[0m\u001b[0;34m,\u001b[0m \u001b[0mbest_rf_pipeline\u001b[0m\u001b[0;34m.\u001b[0m\u001b[0mnamed_steps\u001b[0m\u001b[0;34m[\u001b[0m\u001b[0;34m'classifier'\u001b[0m\u001b[0;34m]\u001b[0m\u001b[0;34m)\u001b[0m\u001b[0;34m\u001b[0m\u001b[0;34m\u001b[0m\u001b[0m\n",
            "\u001b[0;31mNameError\u001b[0m: name 'preprocessor' is not defined"
          ]
        }
      ]
    },
    {
      "cell_type": "code",
      "source": [
        "files.download('bank_marketing_pipeline.sav')"
      ],
      "metadata": {
        "colab": {
          "base_uri": "https://localhost:8080/",
          "height": 17
        },
        "id": "UroVerskKaSZ",
        "outputId": "e72d31a3-c03e-401b-e6ed-b7b5b147e42c"
      },
      "execution_count": null,
      "outputs": [
        {
          "output_type": "display_data",
          "data": {
            "text/plain": [
              "<IPython.core.display.Javascript object>"
            ],
            "application/javascript": [
              "\n",
              "    async function download(id, filename, size) {\n",
              "      if (!google.colab.kernel.accessAllowed) {\n",
              "        return;\n",
              "      }\n",
              "      const div = document.createElement('div');\n",
              "      const label = document.createElement('label');\n",
              "      label.textContent = `Downloading \"${filename}\": `;\n",
              "      div.appendChild(label);\n",
              "      const progress = document.createElement('progress');\n",
              "      progress.max = size;\n",
              "      div.appendChild(progress);\n",
              "      document.body.appendChild(div);\n",
              "\n",
              "      const buffers = [];\n",
              "      let downloaded = 0;\n",
              "\n",
              "      const channel = await google.colab.kernel.comms.open(id);\n",
              "      // Send a message to notify the kernel that we're ready.\n",
              "      channel.send({})\n",
              "\n",
              "      for await (const message of channel.messages) {\n",
              "        // Send a message to notify the kernel that we're ready.\n",
              "        channel.send({})\n",
              "        if (message.buffers) {\n",
              "          for (const buffer of message.buffers) {\n",
              "            buffers.push(buffer);\n",
              "            downloaded += buffer.byteLength;\n",
              "            progress.value = downloaded;\n",
              "          }\n",
              "        }\n",
              "      }\n",
              "      const blob = new Blob(buffers, {type: 'application/binary'});\n",
              "      const a = document.createElement('a');\n",
              "      a.href = window.URL.createObjectURL(blob);\n",
              "      a.download = filename;\n",
              "      div.appendChild(a);\n",
              "      a.click();\n",
              "      div.remove();\n",
              "    }\n",
              "  "
            ]
          },
          "metadata": {}
        },
        {
          "output_type": "display_data",
          "data": {
            "text/plain": [
              "<IPython.core.display.Javascript object>"
            ],
            "application/javascript": [
              "download(\"download_7d20ca17-718d-445c-89ec-c631f13d4de2\", \"bank_marketing_pipeline.sav\", 2188445)"
            ]
          },
          "metadata": {}
        }
      ]
    },
    {
      "cell_type": "code",
      "source": [],
      "metadata": {
        "id": "VtSxNmQWu7DH"
      },
      "execution_count": null,
      "outputs": []
    }
  ]
}
